{
 "cells": [
  {
   "cell_type": "code",
   "execution_count": null,
   "id": "0b76758c",
   "metadata": {},
   "outputs": [],
   "source": [
    "import os\n",
    "from tensorflow.keras.preprocessing import image\n",
    "import numpy as np\n",
    "from keras.models import load_model\n",
    "import tensorflow as tf\n",
    "\n",
    "# Load the trained model\n",
    "model = load_model(\"C:\\\\Users\\\\DELL\\\\Downloads\\\\f1.h5\")\n",
    "\n",
    "# Path to the parent folder containing the subfolders of images to be processed\n",
    "parent_folder_path = \"D:\\\\frames_faces_eyes\\\\detected_eyes\\\\\"\n",
    "\n",
    "# Loop over each subfolder in the parent folder\n",
    "for subfolder_name in os.listdir(parent_folder_path):\n",
    "    subfolder_path = os.path.join(parent_folder_path, subfolder_name)\n",
    "    \n",
    "    # Check if the current item in the parent folder is a directory (i.e., a subfolder)\n",
    "    if os.path.isdir(subfolder_path):\n",
    "        print(f\"Processing images in subfolder: {subfolder_name}\")\n",
    "        \n",
    "        # Loop over each image file in the subfolder\n",
    "        for filename in os.listdir(subfolder_path):\n",
    "            if filename.endswith('.jpg'):\n",
    "                # Load and preprocess the image\n",
    "                img_path = os.path.join(subfolder_path, filename)\n",
    "                img = image.load_img(img_path, target_size=(64,64))\n",
    "                img = np.expand_dims(img, axis=0)\n",
    "\n",
    "                # Make a prediction using the loaded model\n",
    "                result = model.predict(img)\n",
    "                y_pred = np.argmax(result[0])\n",
    "               # print(f\"{filename}:{result} ,{filename}: {y_pred}\")\n",
    "                \n",
    "        # Compute the predicted class for the subfolder based on the majority vote of the images in the subfolder\n",
    "        class_votes = []\n",
    "        for filename in os.listdir(subfolder_path):\n",
    "            if filename.endswith('.jpg'):\n",
    "                img_path = os.path.join(subfolder_path, filename)\n",
    "                img = image.load_img(img_path, target_size=(64,64))\n",
    "                img = np.expand_dims(img, axis=0)\n",
    "                result = model.predict(img)\n",
    "                y_pred = np.argmax(result[0])\n",
    "                class_votes.append(y_pred)\n",
    "        subfolder_predicted_class = np.bincount(class_votes).argmax()\n",
    "        \n",
    "        # Print the predicted class for the subfolder\n",
    "        if subfolder_predicted_class == 0:\n",
    "            print(f\"Predicted class for subfolder {subfolder_name}: focused\")\n",
    "        else:\n",
    "            print(f\"Predicted class for subfolder {subfolder_name}: not-focused\")\n",
    "print(f\"Work Done...!!!: {subfolder_name}\")"
   ]
  }
 ],
 "metadata": {
  "kernelspec": {
   "display_name": "Python 3 (ipykernel)",
   "language": "python",
   "name": "python3"
  },
  "language_info": {
   "codemirror_mode": {
    "name": "ipython",
    "version": 3
   },
   "file_extension": ".py",
   "mimetype": "text/x-python",
   "name": "python",
   "nbconvert_exporter": "python",
   "pygments_lexer": "ipython3",
   "version": "3.9.13"
  }
 },
 "nbformat": 4,
 "nbformat_minor": 5
}
