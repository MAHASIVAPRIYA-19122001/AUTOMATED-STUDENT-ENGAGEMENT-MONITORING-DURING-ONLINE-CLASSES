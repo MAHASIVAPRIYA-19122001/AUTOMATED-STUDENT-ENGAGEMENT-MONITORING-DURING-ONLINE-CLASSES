{
 "cells": [
  {
   "cell_type": "markdown",
   "metadata": {
    "id": "qeIWW_euWZ3J"
   },
   "source": [
    "# 1. Import Libraries"
   ]
  },
  {
   "cell_type": "code",
   "execution_count": null,
   "metadata": {
    "id": "1kO_xge8WZ3P"
   },
   "outputs": [],
   "source": [
    "import os\n",
    "import keras\n",
    "import itertools\n",
    "import numpy as np\n",
    "import pandas as pd\n",
    "import seaborn as sn\n",
    "from collections import Counter\n",
    "import matplotlib.pyplot as plt\n",
    "\n",
    "import tensorflow as tf\n",
    "from tensorflow.keras.preprocessing import image\n",
    "from tensorflow.keras.preprocessing.image import ImageDataGenerator, load_img\n",
    "\n",
    "from tensorflow.keras.models import Model, Sequential\n",
    "from tensorflow.keras.applications import VGG16, MobileNetV2\n",
    "from tensorflow.keras.layers import Dense, Flatten, Dropout,BatchNormalization ,Activation, GlobalAveragePooling2D\n",
    "from tensorflow.keras.layers import GaussianNoise\n",
    "from tensorflow.keras import regularizers\n",
    "\n",
    "import keras.backend as K\n",
    "from tensorflow.keras.optimizers import Adam\n",
    "from sklearn.metrics import classification_report, confusion_matrix\n",
    "from tensorflow.keras.callbacks import ReduceLROnPlateau,ModelCheckpoint,EarlyStopping\n",
    "\n",
    "from IPython.display import Image, HTML\n",
    "from tensorflow.keras.utils import plot_model"
   ]
  },
  {
   "cell_type": "code",
   "execution_count": null,
   "metadata": {
    "colab": {
     "base_uri": "https://localhost:8080/"
    },
    "id": "myAUqzslWb1l",
    "outputId": "3702cba8-6c20-4b5b-a10c-be5e2cf79528"
   },
   "outputs": [
    {
     "name": "stdout",
     "output_type": "stream",
     "text": [
      "Mounted at /content/gdrive\n"
     ]
    }
   ],
   "source": [
    "from google.colab import drive\n",
    "drive.mount('/content/gdrive')"
   ]
  },
  {
   "cell_type": "code",
   "execution_count": null,
   "metadata": {
    "id": "n4e6M9Gko_eU"
   },
   "outputs": [],
   "source": [
    "import zipfile\n",
    "zip_ref = zipfile.ZipFile(\"/content/gdrive/MyDrive/Dataset/FER2013.zip\", 'r')\n",
    "zip_ref.extractall(\"/tmp\")\n",
    "zip_ref.close()"
   ]
  },
  {
   "cell_type": "code",
   "execution_count": null,
   "metadata": {
    "id": "6xdKbuoBpzk6"
   },
   "outputs": [],
   "source": [
    "train_dir='/tmp/train'\n",
    "test_dir='/tmp/test'"
   ]
  },
  {
   "cell_type": "code",
   "execution_count": null,
   "metadata": {
    "id": "-uaIyPJN9AzM"
   },
   "outputs": [],
   "source": [
    "!unzip gdrive/My\\ Drive/Dataset/FER2013"
   ]
  },
  {
   "cell_type": "markdown",
   "metadata": {
    "id": "cWIlX3dOWZ3X"
   },
   "source": [
    "# 2. Parameter"
   ]
  },
  {
   "cell_type": "code",
   "execution_count": null,
   "metadata": {
    "id": "pI4xp0TIWZ3Z"
   },
   "outputs": [],
   "source": [
    "\n",
    "\n",
    "# Image size\n",
    "\n",
    "IMAGE_SIZE   = (48,48)\n",
    "IMAGE_SHAPE = IMAGE_SIZE + (3,)\n",
    "\n",
    "BS = 64\n",
    "EPOCHS = 125\n",
    "ADAM_LEARNING_RATE = 0.0001\n",
    "PATIENCE =10\n",
    "\n",
    "classes=['Angry','Disgust','Fear','Happy','Neutral','Sad','Surprise']"
   ]
  },
  {
   "cell_type": "markdown",
   "metadata": {
    "id": "BKucAo2ZWZ3c"
   },
   "source": [
    "# 3. Prepare data"
   ]
  },
  {
   "cell_type": "code",
   "execution_count": null,
   "metadata": {
    "id": "kyAHLTFqWZ3d"
   },
   "outputs": [],
   "source": [
    "# Data augmentation\n",
    "\n",
    "train_datagen = ImageDataGenerator(rescale = 1./255,\n",
    "                                   featurewise_center=False,\n",
    "                                   featurewise_std_normalization=False,\n",
    "                                   rotation_range=10,\n",
    "                                   width_shift_range=0.1,\n",
    "                                   height_shift_range=0.1,\n",
    "                                   zoom_range=0.1,\n",
    "                                   horizontal_flip=True)\n",
    "\n",
    "test_datagen  = ImageDataGenerator(rescale = 1./255)"
   ]
  },
  {
   "cell_type": "code",
   "execution_count": null,
   "metadata": {
    "colab": {
     "base_uri": "https://localhost:8080/"
    },
    "id": "AIyCjJnsWZ3g",
    "outputId": "9d942916-76ea-4d96-b04f-52a93252e9ba"
   },
   "outputs": [
    {
     "name": "stdout",
     "output_type": "stream",
     "text": [
      "Found 28709 images belonging to 7 classes.\n",
      "Found 7178 images belonging to 7 classes.\n"
     ]
    }
   ],
   "source": [
    "# Load datasat\n",
    "\n",
    "train_dataset  = train_datagen.flow_from_directory(directory = train_dir,\n",
    "                                                   target_size = IMAGE_SIZE,\n",
    "                                                   class_mode = 'categorical',\n",
    "                                                   batch_size = BS)\n",
    "\n",
    "test_dataset = test_datagen.flow_from_directory(directory = test_dir,\n",
    "                                                  target_size = IMAGE_SIZE,\n",
    "                                                  class_mode = 'categorical',\n",
    "                                                  shuffle =True,\n",
    "                                                  batch_size = BS)"
   ]
  },
  {
   "cell_type": "markdown",
   "metadata": {
    "id": "vUyUTc9-WZ3i"
   },
   "source": [
    "# 4. Explore data"
   ]
  },
  {
   "cell_type": "code",
   "execution_count": null,
   "metadata": {
    "colab": {
     "base_uri": "https://localhost:8080/",
     "height": 112
    },
    "id": "5ZCpXLMVWZ3k",
    "outputId": "f52a8137-d8b5-4ca5-b5d7-97b0fa3eac18"
   },
   "outputs": [
    {
     "data": {
      "text/html": [
       "<table border=\"1\" class=\"dataframe\">\n",
       "  <thead>\n",
       "    <tr style=\"text-align: right;\">\n",
       "      <th></th>\n",
       "      <th>happy</th>\n",
       "      <th>neutral</th>\n",
       "      <th>angry</th>\n",
       "      <th>disgust</th>\n",
       "      <th>surprise</th>\n",
       "      <th>sad</th>\n",
       "      <th>fear</th>\n",
       "    </tr>\n",
       "  </thead>\n",
       "  <tbody>\n",
       "    <tr>\n",
       "      <th>train</th>\n",
       "      <td>7215</td>\n",
       "      <td>4965</td>\n",
       "      <td>3995</td>\n",
       "      <td>436</td>\n",
       "      <td>3171</td>\n",
       "      <td>4830</td>\n",
       "      <td>4097</td>\n",
       "    </tr>\n",
       "    <tr>\n",
       "      <th>test</th>\n",
       "      <td>1774</td>\n",
       "      <td>1233</td>\n",
       "      <td>958</td>\n",
       "      <td>111</td>\n",
       "      <td>831</td>\n",
       "      <td>1247</td>\n",
       "      <td>1024</td>\n",
       "    </tr>\n",
       "  </tbody>\n",
       "</table>"
      ],
      "text/plain": [
       "<IPython.core.display.HTML object>"
      ]
     },
     "execution_count": 18,
     "metadata": {},
     "output_type": "execute_result"
    }
   ],
   "source": [
    "# Total train/test sample\n",
    "\n",
    "def count_exp(path, set_):\n",
    "    dict_ = {}\n",
    "    for expression in os.listdir(path):\n",
    "        dir_ = path +\"/\"+ expression\n",
    "        dict_[expression] = len(os.listdir(dir_))\n",
    "    df = pd.DataFrame(dict_, index=[set_])\n",
    "    return df\n",
    "train_count = count_exp(train_dir, 'train')\n",
    "test_count = count_exp(test_dir, 'test')\n",
    "\n",
    "HTML(train_count.append(test_count).to_html(escape=False))"
   ]
  },
  {
   "cell_type": "code",
   "execution_count": null,
   "metadata": {
    "colab": {
     "base_uri": "https://localhost:8080/"
    },
    "id": "VcWNpXGaWZ3o",
    "outputId": "77203661-4fc1-4fc1-a337-1b0ca5be9a65"
   },
   "outputs": [
    {
     "data": {
      "text/plain": [
       "{'angry': 0,\n",
       " 'disgust': 1,\n",
       " 'fear': 2,\n",
       " 'happy': 3,\n",
       " 'neutral': 4,\n",
       " 'sad': 5,\n",
       " 'surprise': 6}"
      ]
     },
     "execution_count": 19,
     "metadata": {},
     "output_type": "execute_result"
    }
   ],
   "source": [
    "# Data labels\n",
    "\n",
    "class_labels = test_dataset.class_indices\n",
    "class_labels"
   ]
  },
  {
   "cell_type": "code",
   "execution_count": null,
   "metadata": {
    "colab": {
     "base_uri": "https://localhost:8080/"
    },
    "id": "MFSX7xvNWZ3q",
    "outputId": "94c2766f-f129-4bda-8a3b-7e1f3901e962"
   },
   "outputs": [
    {
     "name": "stdout",
     "output_type": "stream",
     "text": [
      "(64, 48, 48, 3)\n"
     ]
    }
   ],
   "source": [
    "# See the shape of any data\n",
    "\n",
    "train_sample=next(train_dataset)\n",
    "print(train_sample[0].shape)"
   ]
  },
  {
   "cell_type": "code",
   "execution_count": null,
   "metadata": {
    "colab": {
     "base_uri": "https://localhost:8080/",
     "height": 458
    },
    "id": "UyR08dDDWZ3t",
    "outputId": "54fef5f6-d3f2-4691-855c-d4ca6c1dde3b"
   },
   "outputs": [
    {
     "data": {
      "image/png": "[encoded data removed]",
      "text/plain": [
       "<Figure size 864x504 with 1 Axes>"
      ]
     },
     "metadata": {},
     "output_type": "display_data"
    }
   ],
   "source": [
    "# # lot distribution of train/test dataste per class\n",
    "\n",
    "x = list(test_count.columns)\n",
    "y1 =train_count.iloc[0].to_list()\n",
    "y2 = test_count.iloc[0].to_list()\n",
    "plt.figure(figsize=(12,7))\n",
    "\n",
    "plt.bar(x, y1, color='green')\n",
    "plt.bar(x, y2, bottom=y1, color='red')\n",
    "plt.xlabel(\"Emotions\")\n",
    "plt.ylabel(\"Train & Test data\")\n",
    "plt.legend([\"Train\", \"Test\"], loc='upper left')\n",
    "plt.title(\"FER-2013\")\n",
    "plt.savefig('distribution.png')\n",
    "plt.show()"
   ]
  },
  {
   "cell_type": "code",
   "execution_count": null,
   "metadata": {
    "colab": {
     "base_uri": "https://localhost:8080/",
     "height": 142
    },
    "id": "1cpQfi7iWZ3v",
    "outputId": "6d19c82f-aaac-4c1e-b044-81c1878990ea"
   },
   "outputs": [
    {
     "data": {
      "image/png": "[encoded data removed]",
      "text/plain": [
       "<Figure size 1008x1584 with 7 Axes>"
      ]
     },
     "metadata": {},
     "output_type": "display_data"
    }
   ],
   "source": [
    "# Plot image of each class\n",
    "\n",
    "plt.figure(figsize=(14,22))\n",
    "i = 1\n",
    "for expression in os.listdir(train_dir):\n",
    "    img = load_img((train_dir + \"/\"+expression +'/'+ os.listdir(train_dir + \"/\"+expression)[1]))\n",
    "    plt.subplot(1,7,i)\n",
    "    plt.imshow(img)\n",
    "    plt.title(expression)\n",
    "    plt.axis('off')\n",
    "    i += 1\n",
    "plt.show()"
   ]
  },
  {
   "cell_type": "markdown",
   "metadata": {
    "id": "XKh8OiwxWZ3x"
   },
   "source": [
    "# 5. Model"
   ]
  },
  {
   "cell_type": "code",
   "execution_count": null,
   "metadata": {
    "colab": {
     "base_uri": "https://localhost:8080/"
    },
    "id": "-MrLdb4xWZ3y",
    "outputId": "61c1e3af-7e25-4664-9a89-0e1a130356ef"
   },
   "outputs": [
    {
     "name": "stderr",
     "output_type": "stream",
     "text": [
      "WARNING:tensorflow:`input_shape` is undefined or non-square, or `rows` is not in [128, 160, 192, 224]. Weights for input shape (224, 224) will be loaded as the default.\n"
     ]
    },
    {
     "name": "stdout",
     "output_type": "stream",
     "text": [
      "Downloading data from https://storage.googleapis.com/tensorflow/keras-applications/mobilenet/mobilenet_1_0_224_tf_no_top.h5\n",
      "17225924/17225924 [==============================] - 0s 0us/step\n",
      "Model: \"mobilenet_1.00_224\"\n",
      "_________________________________________________________________\n",
      " Layer (type)                Output Shape              Param #   \n",
      "=================================================================\n",
      " input_1 (InputLayer)        [(None, 48, 48, 3)]       0         \n",
      "                                                                 \n",
      " conv1 (Conv2D)              (None, 24, 24, 32)        864       \n",
      "                                                                 \n",
      " conv1_bn (BatchNormalizatio  (None, 24, 24, 32)       128       \n",
      " n)                                                              \n",
      "                                                                 \n",
      " conv1_relu (ReLU)           (None, 24, 24, 32)        0         \n",
      "                                                                 \n",
      " conv_dw_1 (DepthwiseConv2D)  (None, 24, 24, 32)       288       \n",
      "                                                                 \n",
      " conv_dw_1_bn (BatchNormaliz  (None, 24, 24, 32)       128       \n",
      " ation)                                                          \n",
      "                                                                 \n",
      " conv_dw_1_relu (ReLU)       (None, 24, 24, 32)        0         \n",
      "                                                                 \n",
      " conv_pw_1 (Conv2D)          (None, 24, 24, 64)        2048      \n",
      "                                                                 \n",
      " conv_pw_1_bn (BatchNormaliz  (None, 24, 24, 64)       256       \n",
      " ation)                                                          \n",
      "                                                                 \n",
      " conv_pw_1_relu (ReLU)       (None, 24, 24, 64)        0         \n",
      "                                                                 \n",
      " conv_pad_2 (ZeroPadding2D)  (None, 25, 25, 64)        0         \n",
      "                                                                 \n",
      " conv_dw_2 (DepthwiseConv2D)  (None, 12, 12, 64)       576       \n",
      "                                                                 \n",
      " conv_dw_2_bn (BatchNormaliz  (None, 12, 12, 64)       256       \n",
      " ation)                                                          \n",
      "                                                                 \n",
      " conv_dw_2_relu (ReLU)       (None, 12, 12, 64)        0         \n",
      "                                                                 \n",
      " conv_pw_2 (Conv2D)          (None, 12, 12, 128)       8192      \n",
      "                                                                 \n",
      " conv_pw_2_bn (BatchNormaliz  (None, 12, 12, 128)      512       \n",
      " ation)                                                          \n",
      "                                                                 \n",
      " conv_pw_2_relu (ReLU)       (None, 12, 12, 128)       0         \n",
      "                                                                 \n",
      " conv_dw_3 (DepthwiseConv2D)  (None, 12, 12, 128)      1152      \n",
      "                                                                 \n",
      " conv_dw_3_bn (BatchNormaliz  (None, 12, 12, 128)      512       \n",
      " ation)                                                          \n",
      "                                                                 \n",
      " conv_dw_3_relu (ReLU)       (None, 12, 12, 128)       0         \n",
      "                                                                 \n",
      " conv_pw_3 (Conv2D)          (None, 12, 12, 128)       16384     \n",
      "                                                                 \n",
      " conv_pw_3_bn (BatchNormaliz  (None, 12, 12, 128)      512       \n",
      " ation)                                                          \n",
      "                                                                 \n",
      " conv_pw_3_relu (ReLU)       (None, 12, 12, 128)       0         \n",
      "                                                                 \n",
      " conv_pad_4 (ZeroPadding2D)  (None, 13, 13, 128)       0         \n",
      "                                                                 \n",
      " conv_dw_4 (DepthwiseConv2D)  (None, 6, 6, 128)        1152      \n",
      "                                                                 \n",
      " conv_dw_4_bn (BatchNormaliz  (None, 6, 6, 128)        512       \n",
      " ation)                                                          \n",
      "                                                                 \n",
      " conv_dw_4_relu (ReLU)       (None, 6, 6, 128)         0         \n",
      "                                                                 \n",
      " conv_pw_4 (Conv2D)          (None, 6, 6, 256)         32768     \n",
      "                                                                 \n",
      " conv_pw_4_bn (BatchNormaliz  (None, 6, 6, 256)        1024      \n",
      " ation)                                                          \n",
      "                                                                 \n",
      " conv_pw_4_relu (ReLU)       (None, 6, 6, 256)         0         \n",
      "                                                                 \n",
      " conv_dw_5 (DepthwiseConv2D)  (None, 6, 6, 256)        2304      \n",
      "                                                                 \n",
      " conv_dw_5_bn (BatchNormaliz  (None, 6, 6, 256)        1024      \n",
      " ation)                                                          \n",
      "                                                                 \n",
      " conv_dw_5_relu (ReLU)       (None, 6, 6, 256)         0         \n",
      "                                                                 \n",
      " conv_pw_5 (Conv2D)          (None, 6, 6, 256)         65536     \n",
      "                                                                 \n",
      " conv_pw_5_bn (BatchNormaliz  (None, 6, 6, 256)        1024      \n",
      " ation)                                                          \n",
      "                                                                 \n",
      " conv_pw_5_relu (ReLU)       (None, 6, 6, 256)         0         \n",
      "                                                                 \n",
      " conv_pad_6 (ZeroPadding2D)  (None, 7, 7, 256)         0         \n",
      "                                                                 \n",
      " conv_dw_6 (DepthwiseConv2D)  (None, 3, 3, 256)        2304      \n",
      "                                                                 \n",
      " conv_dw_6_bn (BatchNormaliz  (None, 3, 3, 256)        1024      \n",
      " ation)                                                          \n",
      "                                                                 \n",
      " conv_dw_6_relu (ReLU)       (None, 3, 3, 256)         0         \n",
      "                                                                 \n",
      " conv_pw_6 (Conv2D)          (None, 3, 3, 512)         131072    \n",
      "                                                                 \n",
      " conv_pw_6_bn (BatchNormaliz  (None, 3, 3, 512)        2048      \n",
      " ation)                                                          \n",
      "                                                                 \n",
      " conv_pw_6_relu (ReLU)       (None, 3, 3, 512)         0         \n",
      "                                                                 \n",
      " conv_dw_7 (DepthwiseConv2D)  (None, 3, 3, 512)        4608      \n",
      "                                                                 \n",
      " conv_dw_7_bn (BatchNormaliz  (None, 3, 3, 512)        2048      \n",
      " ation)                                                          \n",
      "                                                                 \n",
      " conv_dw_7_relu (ReLU)       (None, 3, 3, 512)         0         \n",
      "                                                                 \n",
      " conv_pw_7 (Conv2D)          (None, 3, 3, 512)         262144    \n",
      "                                                                 \n",
      " conv_pw_7_bn (BatchNormaliz  (None, 3, 3, 512)        2048      \n",
      " ation)                                                          \n",
      "                                                                 \n",
      " conv_pw_7_relu (ReLU)       (None, 3, 3, 512)         0         \n",
      "                                                                 \n",
      " conv_dw_8 (DepthwiseConv2D)  (None, 3, 3, 512)        4608      \n",
      "                                                                 \n",
      " conv_dw_8_bn (BatchNormaliz  (None, 3, 3, 512)        2048      \n",
      " ation)                                                          \n",
      "                                                                 \n",
      " conv_dw_8_relu (ReLU)       (None, 3, 3, 512)         0         \n",
      "                                                                 \n",
      " conv_pw_8 (Conv2D)          (None, 3, 3, 512)         262144    \n",
      "                                                                 \n",
      " conv_pw_8_bn (BatchNormaliz  (None, 3, 3, 512)        2048      \n",
      " ation)                                                          \n",
      "                                                                 \n",
      " conv_pw_8_relu (ReLU)       (None, 3, 3, 512)         0         \n",
      "                                                                 \n",
      " conv_dw_9 (DepthwiseConv2D)  (None, 3, 3, 512)        4608      \n",
      "                                                                 \n",
      " conv_dw_9_bn (BatchNormaliz  (None, 3, 3, 512)        2048      \n",
      " ation)                                                          \n",
      "                                                                 \n",
      " conv_dw_9_relu (ReLU)       (None, 3, 3, 512)         0         \n",
      "                                                                 \n",
      " conv_pw_9 (Conv2D)          (None, 3, 3, 512)         262144    \n",
      "                                                                 \n",
      " conv_pw_9_bn (BatchNormaliz  (None, 3, 3, 512)        2048      \n",
      " ation)                                                          \n",
      "                                                                 \n",
      " conv_pw_9_relu (ReLU)       (None, 3, 3, 512)         0         \n",
      "                                                                 \n",
      " conv_dw_10 (DepthwiseConv2D  (None, 3, 3, 512)        4608      \n",
      " )                                                               \n",
      "                                                                 \n",
      " conv_dw_10_bn (BatchNormali  (None, 3, 3, 512)        2048      \n",
      " zation)                                                         \n",
      "                                                                 \n",
      " conv_dw_10_relu (ReLU)      (None, 3, 3, 512)         0         \n",
      "                                                                 \n",
      " conv_pw_10 (Conv2D)         (None, 3, 3, 512)         262144    \n",
      "                                                                 \n",
      " conv_pw_10_bn (BatchNormali  (None, 3, 3, 512)        2048      \n",
      " zation)                                                         \n",
      "                                                                 \n",
      " conv_pw_10_relu (ReLU)      (None, 3, 3, 512)         0         \n",
      "                                                                 \n",
      " conv_dw_11 (DepthwiseConv2D  (None, 3, 3, 512)        4608      \n",
      " )                                                               \n",
      "                                                                 \n",
      " conv_dw_11_bn (BatchNormali  (None, 3, 3, 512)        2048      \n",
      " zation)                                                         \n",
      "                                                                 \n",
      " conv_dw_11_relu (ReLU)      (None, 3, 3, 512)         0         \n",
      "                                                                 \n",
      " conv_pw_11 (Conv2D)         (None, 3, 3, 512)         262144    \n",
      "                                                                 \n",
      " conv_pw_11_bn (BatchNormali  (None, 3, 3, 512)        2048      \n",
      " zation)                                                         \n",
      "                                                                 \n",
      " conv_pw_11_relu (ReLU)      (None, 3, 3, 512)         0         \n",
      "                                                                 \n",
      " conv_pad_12 (ZeroPadding2D)  (None, 4, 4, 512)        0         \n",
      "                                                                 \n",
      " conv_dw_12 (DepthwiseConv2D  (None, 1, 1, 512)        4608      \n",
      " )                                                               \n",
      "                                                                 \n",
      " conv_dw_12_bn (BatchNormali  (None, 1, 1, 512)        2048      \n",
      " zation)                                                         \n",
      "                                                                 \n",
      " conv_dw_12_relu (ReLU)      (None, 1, 1, 512)         0         \n",
      "                                                                 \n",
      " conv_pw_12 (Conv2D)         (None, 1, 1, 1024)        524288    \n",
      "                                                                 \n",
      " conv_pw_12_bn (BatchNormali  (None, 1, 1, 1024)       4096      \n",
      " zation)                                                         \n",
      "                                                                 \n",
      " conv_pw_12_relu (ReLU)      (None, 1, 1, 1024)        0         \n",
      "                                                                 \n",
      " conv_dw_13 (DepthwiseConv2D  (None, 1, 1, 1024)       9216      \n",
      " )                                                               \n",
      "                                                                 \n",
      " conv_dw_13_bn (BatchNormali  (None, 1, 1, 1024)       4096      \n",
      " zation)                                                         \n",
      "                                                                 \n",
      " conv_dw_13_relu (ReLU)      (None, 1, 1, 1024)        0         \n",
      "                                                                 \n",
      " conv_pw_13 (Conv2D)         (None, 1, 1, 1024)        1048576   \n",
      "                                                                 \n",
      " conv_pw_13_bn (BatchNormali  (None, 1, 1, 1024)       4096      \n",
      " zation)                                                         \n",
      "                                                                 \n",
      " conv_pw_13_relu (ReLU)      (None, 1, 1, 1024)        0         \n",
      "                                                                 \n",
      "=================================================================\n",
      "Total params: 3,228,864\n",
      "Trainable params: 3,206,976\n",
      "Non-trainable params: 21,888\n",
      "_________________________________________________________________\n"
     ]
    }
   ],
   "source": [
    "# Mobinet\n",
    "\n",
    "base_model = tf.keras.applications.MobileNet(input_shape=IMAGE_SHAPE, include_top=False, weights='imagenet')\n",
    "base_model.summary()"
   ]
  },
  {
   "cell_type": "code",
   "execution_count": null,
   "metadata": {
    "id": "cOyrt3sYWZ3z"
   },
   "outputs": [],
   "source": [
    "# Freezing Layers\n",
    "\n",
    "for layer in base_model.layers[:-9]:\n",
    "    layer.trainable=False"
   ]
  },
  {
   "cell_type": "code",
   "execution_count": null,
   "metadata": {
    "colab": {
     "base_uri": "https://localhost:8080/"
    },
    "id": "4H1KnLd8WZ30",
    "outputId": "4736002c-73d3-42f6-aa9c-573dbcf64c38"
   },
   "outputs": [
    {
     "name": "stdout",
     "output_type": "stream",
     "text": [
      "Model trainable 86\n"
     ]
    }
   ],
   "source": [
    "print(\"Model trainable\",len(base_model.layers))"
   ]
  },
  {
   "cell_type": "code",
   "execution_count": null,
   "metadata": {
    "colab": {
     "base_uri": "https://localhost:8080/"
    },
    "id": "cAjwLVOKWZ31",
    "outputId": "670a4a74-c889-4c02-bfd4-ab3f9c053a13"
   },
   "outputs": [
    {
     "name": "stdout",
     "output_type": "stream",
     "text": [
      "Model trainable 9\n"
     ]
    }
   ],
   "source": [
    "print(\"Model trainable\",len(base_model.trainable_variables))"
   ]
  },
  {
   "cell_type": "code",
   "execution_count": null,
   "metadata": {
    "colab": {
     "base_uri": "https://localhost:8080/"
    },
    "id": "YKlT63JGWZ31",
    "outputId": "e65585f8-fc93-4f52-8843-0dfe14530629"
   },
   "outputs": [
    {
     "name": "stdout",
     "output_type": "stream",
     "text": [
      "Model trainable 9\n"
     ]
    }
   ],
   "source": [
    "# Model trainable\n",
    "\n",
    "print(\"Model trainable\",len(base_model.trainable_variables))"
   ]
  },
  {
   "cell_type": "code",
   "execution_count": null,
   "metadata": {
    "colab": {
     "base_uri": "https://localhost:8080/"
    },
    "id": "TSAXR-XhWZ32",
    "outputId": "90de6448-7194-4c7b-ad3b-a3a75002c06d"
   },
   "outputs": [
    {
     "name": "stdout",
     "output_type": "stream",
     "text": [
      "Model: \"sequential\"\n",
      "_________________________________________________________________\n",
      " Layer (type)                Output Shape              Param #   \n",
      "=================================================================\n",
      " mobilenet_1.00_224 (Functio  (None, 1, 1, 1024)       3228864   \n",
      " nal)                                                            \n",
      "                                                                 \n",
      " global_average_pooling2d (G  (None, 1024)             0         \n",
      " lobalAveragePooling2D)                                          \n",
      "                                                                 \n",
      " flatten (Flatten)           (None, 1024)              0         \n",
      "                                                                 \n",
      " dense (Dense)               (None, 256)               262400    \n",
      "                                                                 \n",
      " batch_normalization (BatchN  (None, 256)              1024      \n",
      " ormalization)                                                   \n",
      "                                                                 \n",
      " dropout (Dropout)           (None, 256)               0         \n",
      "                                                                 \n",
      " dense_1 (Dense)             (None, 128)               32896     \n",
      "                                                                 \n",
      " batch_normalization_1 (Batc  (None, 128)              512       \n",
      " hNormalization)                                                 \n",
      "                                                                 \n",
      " dropout_1 (Dropout)         (None, 128)               0         \n",
      "                                                                 \n",
      " dense_2 (Dense)             (None, 7)                 903       \n",
      "                                                                 \n",
      "=================================================================\n",
      "Total params: 3,526,599\n",
      "Trainable params: 1,885,191\n",
      "Non-trainable params: 1,641,408\n",
      "_________________________________________________________________\n"
     ]
    }
   ],
   "source": [
    "# Build transfer learning Model\n",
    "\n",
    "model=Sequential()\n",
    "model.add(base_model)\n",
    "model.add(GlobalAveragePooling2D())\n",
    "\n",
    "model.add(Flatten())\n",
    "model.add(Dense(256, activation='relu',kernel_regularizer=regularizers.l2(0.001),bias_regularizer=regularizers.l2(0.001)))\n",
    "model.add(BatchNormalization())\n",
    "model.add(Dropout(0.3))\n",
    "\n",
    "model.add(Dense(128, activation='relu',kernel_regularizer=regularizers.l2(0.001),bias_regularizer=regularizers.l2(0.001)))\n",
    "model.add(BatchNormalization())\n",
    "model.add(Dropout(0.3))\n",
    "\n",
    "model.add(Dense(7, activation=\"softmax\"))\n",
    "\n",
    "model.summary()"
   ]
  },
  {
   "cell_type": "code",
   "execution_count": null,
   "metadata": {
    "colab": {
     "base_uri": "https://localhost:8080/",
     "height": 399
    },
    "id": "DezF1kcNWZ33",
    "outputId": "062a6359-e87e-4307-c8f8-040570f008ba"
   },
   "outputs": [
    {
     "ename": "ValueError",
     "evalue": "ignored",
     "output_type": "error",
     "traceback": [
      "\u001b[0;31m---------------------------------------------------------------------------\u001b[0m",
      "\u001b[0;31mValueError\u001b[0m                                Traceback (most recent call last)",
      "\u001b[0;32m<ipython-input-28-af2644f699e1>\u001b[0m in \u001b[0;36m<module>\u001b[0;34m\u001b[0m\n\u001b[1;32m     18\u001b[0m ]\n\u001b[1;32m     19\u001b[0m \u001b[0;34m\u001b[0m\u001b[0m\n\u001b[0;32m---> 20\u001b[0;31m \u001b[0madam\u001b[0m \u001b[0;34m=\u001b[0m \u001b[0mtf\u001b[0m\u001b[0;34m.\u001b[0m\u001b[0mkeras\u001b[0m\u001b[0;34m.\u001b[0m\u001b[0moptimizers\u001b[0m\u001b[0;34m.\u001b[0m\u001b[0mAdam\u001b[0m\u001b[0;34m(\u001b[0m\u001b[0mlearning_rate\u001b[0m\u001b[0;34m=\u001b[0m\u001b[0mADAM_LEARNING_RATE\u001b[0m\u001b[0;34m,\u001b[0m \u001b[0mbeta_1\u001b[0m\u001b[0;34m=\u001b[0m\u001b[0;36m0.9\u001b[0m\u001b[0;34m,\u001b[0m \u001b[0mbeta_2\u001b[0m\u001b[0;34m=\u001b[0m\u001b[0;36m0.999\u001b[0m\u001b[0;34m,\u001b[0m \u001b[0mepsilon\u001b[0m\u001b[0;34m=\u001b[0m\u001b[0;36m1e-08\u001b[0m\u001b[0;34m,\u001b[0m \u001b[0mdecay\u001b[0m\u001b[0;34m=\u001b[0m\u001b[0;36m0.0\u001b[0m\u001b[0;34m)\u001b[0m\u001b[0;34m\u001b[0m\u001b[0;34m\u001b[0m\u001b[0m\n\u001b[0m\u001b[1;32m     21\u001b[0m \u001b[0;34m\u001b[0m\u001b[0m\n\u001b[1;32m     22\u001b[0m \u001b[0mmodel\u001b[0m\u001b[0;34m.\u001b[0m\u001b[0mcompile\u001b[0m\u001b[0;34m(\u001b[0m\u001b[0moptimizer\u001b[0m\u001b[0;34m=\u001b[0m\u001b[0madam\u001b[0m\u001b[0;34m,\u001b[0m \u001b[0mloss\u001b[0m\u001b[0;34m=\u001b[0m\u001b[0;34m'categorical_crossentropy'\u001b[0m\u001b[0;34m,\u001b[0m\u001b[0mmetrics\u001b[0m\u001b[0;34m=\u001b[0m\u001b[0mMETRICS\u001b[0m\u001b[0;34m)\u001b[0m\u001b[0;34m\u001b[0m\u001b[0;34m\u001b[0m\u001b[0m\n",
      "\u001b[0;32m/usr/local/lib/python3.8/dist-packages/keras/optimizers/optimizer_experimental/adam.py\u001b[0m in \u001b[0;36m__init__\u001b[0;34m(self, learning_rate, beta_1, beta_2, epsilon, amsgrad, weight_decay, clipnorm, clipvalue, global_clipnorm, use_ema, ema_momentum, ema_overwrite_frequency, jit_compile, name, **kwargs)\u001b[0m\n\u001b[1;32m    102\u001b[0m         \u001b[0;34m**\u001b[0m\u001b[0mkwargs\u001b[0m\u001b[0;34m\u001b[0m\u001b[0;34m\u001b[0m\u001b[0m\n\u001b[1;32m    103\u001b[0m     ):\n\u001b[0;32m--> 104\u001b[0;31m         super().__init__(\n\u001b[0m\u001b[1;32m    105\u001b[0m             \u001b[0mname\u001b[0m\u001b[0;34m=\u001b[0m\u001b[0mname\u001b[0m\u001b[0;34m,\u001b[0m\u001b[0;34m\u001b[0m\u001b[0;34m\u001b[0m\u001b[0m\n\u001b[1;32m    106\u001b[0m             \u001b[0mweight_decay\u001b[0m\u001b[0;34m=\u001b[0m\u001b[0mweight_decay\u001b[0m\u001b[0;34m,\u001b[0m\u001b[0;34m\u001b[0m\u001b[0;34m\u001b[0m\u001b[0m\n",
      "\u001b[0;32m/usr/local/lib/python3.8/dist-packages/keras/optimizers/optimizer_experimental/optimizer.py\u001b[0m in \u001b[0;36m__init__\u001b[0;34m(self, name, weight_decay, clipnorm, clipvalue, global_clipnorm, use_ema, ema_momentum, ema_overwrite_frequency, jit_compile, **kwargs)\u001b[0m\n\u001b[1;32m   1051\u001b[0m         \u001b[0;34m\"\"\"Create a new Optimizer.\"\"\"\u001b[0m\u001b[0;34m\u001b[0m\u001b[0;34m\u001b[0m\u001b[0m\n\u001b[1;32m   1052\u001b[0m \u001b[0;34m\u001b[0m\u001b[0m\n\u001b[0;32m-> 1053\u001b[0;31m         super().__init__(\n\u001b[0m\u001b[1;32m   1054\u001b[0m             \u001b[0mname\u001b[0m\u001b[0;34m,\u001b[0m\u001b[0;34m\u001b[0m\u001b[0;34m\u001b[0m\u001b[0m\n\u001b[1;32m   1055\u001b[0m             \u001b[0mweight_decay\u001b[0m\u001b[0;34m,\u001b[0m\u001b[0;34m\u001b[0m\u001b[0;34m\u001b[0m\u001b[0m\n",
      "\u001b[0;32m/usr/local/lib/python3.8/dist-packages/keras/optimizers/optimizer_experimental/optimizer.py\u001b[0m in \u001b[0;36m__init__\u001b[0;34m(self, name, weight_decay, clipnorm, clipvalue, global_clipnorm, use_ema, ema_momentum, ema_overwrite_frequency, jit_compile, **kwargs)\u001b[0m\n\u001b[1;32m     87\u001b[0m         \u001b[0mself\u001b[0m\u001b[0;34m.\u001b[0m\u001b[0m_variables\u001b[0m \u001b[0;34m=\u001b[0m \u001b[0;34m[\u001b[0m\u001b[0;34m]\u001b[0m\u001b[0;34m\u001b[0m\u001b[0;34m\u001b[0m\u001b[0m\n\u001b[1;32m     88\u001b[0m         \u001b[0mself\u001b[0m\u001b[0;34m.\u001b[0m\u001b[0m_create_iteration_variable\u001b[0m\u001b[0;34m(\u001b[0m\u001b[0;34m)\u001b[0m\u001b[0;34m\u001b[0m\u001b[0;34m\u001b[0m\u001b[0m\n\u001b[0;32m---> 89\u001b[0;31m         \u001b[0mself\u001b[0m\u001b[0;34m.\u001b[0m\u001b[0m_process_kwargs\u001b[0m\u001b[0;34m(\u001b[0m\u001b[0mkwargs\u001b[0m\u001b[0;34m)\u001b[0m\u001b[0;34m\u001b[0m\u001b[0;34m\u001b[0m\u001b[0m\n\u001b[0m\u001b[1;32m     90\u001b[0m \u001b[0;34m\u001b[0m\u001b[0m\n\u001b[1;32m     91\u001b[0m     \u001b[0;32mdef\u001b[0m \u001b[0m_create_iteration_variable\u001b[0m\u001b[0;34m(\u001b[0m\u001b[0mself\u001b[0m\u001b[0;34m)\u001b[0m\u001b[0;34m:\u001b[0m\u001b[0;34m\u001b[0m\u001b[0;34m\u001b[0m\u001b[0m\n",
      "\u001b[0;32m/usr/local/lib/python3.8/dist-packages/keras/optimizers/optimizer_experimental/optimizer.py\u001b[0m in \u001b[0;36m_process_kwargs\u001b[0;34m(self, kwargs)\u001b[0m\n\u001b[1;32m    116\u001b[0m         \u001b[0;32mfor\u001b[0m \u001b[0mk\u001b[0m \u001b[0;32min\u001b[0m \u001b[0mkwargs\u001b[0m\u001b[0;34m:\u001b[0m\u001b[0;34m\u001b[0m\u001b[0;34m\u001b[0m\u001b[0m\n\u001b[1;32m    117\u001b[0m             \u001b[0;32mif\u001b[0m \u001b[0mk\u001b[0m \u001b[0;32min\u001b[0m \u001b[0mlegacy_kwargs\u001b[0m\u001b[0;34m:\u001b[0m\u001b[0;34m\u001b[0m\u001b[0;34m\u001b[0m\u001b[0m\n\u001b[0;32m--> 118\u001b[0;31m                 raise ValueError(\n\u001b[0m\u001b[1;32m    119\u001b[0m                     \u001b[0;34mf\"{k} is deprecated in the new Keras optimizer, please\"\u001b[0m\u001b[0;34m\u001b[0m\u001b[0;34m\u001b[0m\u001b[0m\n\u001b[1;32m    120\u001b[0m                     \u001b[0;34m\"check the docstring for valid arguments, or use the \"\u001b[0m\u001b[0;34m\u001b[0m\u001b[0;34m\u001b[0m\u001b[0m\n",
      "\u001b[0;31mValueError\u001b[0m: decay is deprecated in the new Keras optimizer, pleasecheck the docstring for valid arguments, or use the legacy optimizer, e.g., tf.keras.optimizers.legacy.Adam."
     ]
    }
   ],
   "source": [
    "# Compile model\n",
    "\n",
    "def f1_score(y_true, y_pred): #taken from old keras source code\n",
    "    true_positives = K.sum(K.round(K.clip(y_true * y_pred, 0, 1)))\n",
    "    possible_positives = K.sum(K.round(K.clip(y_true, 0, 1)))\n",
    "    predicted_positives = K.sum(K.round(K.clip(y_pred, 0, 1)))\n",
    "    precision = true_positives / (predicted_positives + K.epsilon())\n",
    "    recall = true_positives / (possible_positives + K.epsilon())\n",
    "    f1_val = 2*(precision*recall)/(precision+recall+K.epsilon())\n",
    "    return f1_val\n",
    "\n",
    "METRICS = [\n",
    "      tf.keras.metrics.BinaryAccuracy(name='accuracy'),\n",
    "      tf.keras.metrics.Precision(name='precision'),\n",
    "      tf.keras.metrics.Recall(name='recall'),  \n",
    "      tf.keras.metrics.AUC(name='auc'),\n",
    "      f1_score,\n",
    "]\n",
    "\n",
    "adam = tf.keras.optimizers.Adam(learning_rate=ADAM_LEARNING_RATE, beta_1=0.9, beta_2=0.999, epsilon=1e-08, decay=0.0)\n",
    "\n",
    "model.compile(optimizer=adam, loss='categorical_crossentropy',metrics=METRICS)"
   ]
  },
  {
   "cell_type": "code",
   "execution_count": null,
   "metadata": {
    "colab": {
     "base_uri": "https://localhost:8080/"
    },
    "id": "1w-qZ95OxhDv",
    "outputId": "f544ffe9-1b2b-473f-b566-f0bf25ba3f71"
   },
   "outputs": [
    {
     "data": {
      "text/plain": [
       "numpy.ndarray"
      ]
     },
     "execution_count": 20,
     "metadata": {},
     "output_type": "execute_result"
    }
   ],
   "source": [
    "type(train_dataset.classes)"
   ]
  },
  {
   "cell_type": "code",
   "execution_count": null,
   "metadata": {
    "colab": {
     "base_uri": "https://localhost:8080/"
    },
    "id": "xeBj6Lv_x_ym",
    "outputId": "fab3b72e-161f-4f3e-ba4c-d9825d5f01de"
   },
   "outputs": [
    {
     "data": {
      "text/plain": [
       "28709"
      ]
     },
     "execution_count": 24,
     "metadata": {},
     "output_type": "execute_result"
    }
   ],
   "source": [
    "len(train_dataset.classes)"
   ]
  },
  {
   "cell_type": "code",
   "execution_count": null,
   "metadata": {
    "colab": {
     "base_uri": "https://localhost:8080/"
    },
    "id": "-KMKqIhfWZ33",
    "outputId": "3602dfbe-3903-41f5-eb4b-6228d609ffcd"
   },
   "outputs": [
    {
     "name": "stdout",
     "output_type": "stream",
     "text": [
      "Epoch 1/125\n",
      "449/449 [==============================] - 159s 355ms/step - loss: 1.5570 - accuracy: 0.9100 - precision: 0.7682 - recall: 0.5301 - auc: 0.9267 - f1_score: 0.6265 - val_loss: 1.4788 - val_accuracy: 0.8792 - val_precision: 0.6096 - val_recall: 0.4296 - val_auc: 0.8604 - val_f1_score: 0.5011 - lr: 1.2500e-05\n",
      "Epoch 2/125\n",
      "449/449 [==============================] - 159s 355ms/step - loss: 1.5623 - accuracy: 0.9101 - precision: 0.7661 - recall: 0.5337 - auc: 0.9272 - f1_score: 0.6284 - val_loss: 1.4833 - val_accuracy: 0.8791 - val_precision: 0.6089 - val_recall: 0.4295 - val_auc: 0.8594 - val_f1_score: 0.5025 - lr: 1.2500e-05\n",
      "Epoch 3/125\n",
      "449/449 [==============================] - 160s 355ms/step - loss: 1.5628 - accuracy: 0.9097 - precision: 0.7648 - recall: 0.5308 - auc: 0.9266 - f1_score: 0.6256 - val_loss: 1.4843 - val_accuracy: 0.8794 - val_precision: 0.6106 - val_recall: 0.4298 - val_auc: 0.8595 - val_f1_score: 0.5026 - lr: 1.2500e-05\n",
      "Epoch 4/125\n",
      "449/449 [==============================] - 161s 359ms/step - loss: 1.5446 - accuracy: 0.9106 - precision: 0.7691 - recall: 0.5349 - auc: 0.9276 - f1_score: 0.6304 - val_loss: 1.4826 - val_accuracy: 0.8785 - val_precision: 0.6059 - val_recall: 0.4271 - val_auc: 0.8596 - val_f1_score: 0.5009 - lr: 1.2500e-05\n",
      "Epoch 5/125\n",
      "449/449 [==============================] - 159s 354ms/step - loss: 1.5579 - accuracy: 0.9104 - precision: 0.7659 - recall: 0.5370 - auc: 0.9273 - f1_score: 0.6306 - val_loss: 1.4850 - val_accuracy: 0.8789 - val_precision: 0.6081 - val_recall: 0.4288 - val_auc: 0.8593 - val_f1_score: 0.4984 - lr: 1.2500e-05\n",
      "Epoch 6/125\n",
      "449/449 [==============================] - 159s 354ms/step - loss: 1.5486 - accuracy: 0.9104 - precision: 0.7663 - recall: 0.5367 - auc: 0.9271 - f1_score: 0.6305 - val_loss: 1.4896 - val_accuracy: 0.8789 - val_precision: 0.6069 - val_recall: 0.4313 - val_auc: 0.8590 - val_f1_score: 0.5056 - lr: 1.2500e-05\n",
      "Epoch 7/125\n",
      "449/449 [==============================] - 158s 352ms/step - loss: 1.5421 - accuracy: 0.9116 - precision: 0.7727 - recall: 0.5402 - auc: 0.9288 - f1_score: 0.6352 - val_loss: 1.4862 - val_accuracy: 0.8792 - val_precision: 0.6088 - val_recall: 0.4326 - val_auc: 0.8596 - val_f1_score: 0.5058 - lr: 1.2500e-05\n",
      "Epoch 8/125\n",
      "449/449 [==============================] - 158s 352ms/step - loss: 1.5459 - accuracy: 0.9103 - precision: 0.7627 - recall: 0.5397 - auc: 0.9279 - f1_score: 0.6314 - val_loss: 1.4870 - val_accuracy: 0.8787 - val_precision: 0.6064 - val_recall: 0.4299 - val_auc: 0.8592 - val_f1_score: 0.5016 - lr: 1.2500e-05\n",
      "Epoch 9/125\n",
      "449/449 [==============================] - 159s 353ms/step - loss: 1.5426 - accuracy: 0.9113 - precision: 0.7692 - recall: 0.5417 - auc: 0.9287 - f1_score: 0.6348 - val_loss: 1.4938 - val_accuracy: 0.8784 - val_precision: 0.6040 - val_recall: 0.4323 - val_auc: 0.8584 - val_f1_score: 0.5033 - lr: 1.2500e-05\n",
      "Epoch 10/125\n",
      "449/449 [==============================] - 159s 354ms/step - loss: 1.5374 - accuracy: 0.9110 - precision: 0.7666 - recall: 0.5420 - auc: 0.9285 - f1_score: 0.6340 - val_loss: 1.4882 - val_accuracy: 0.8793 - val_precision: 0.6096 - val_recall: 0.4316 - val_auc: 0.8593 - val_f1_score: 0.5066 - lr: 1.2500e-05\n",
      "Epoch 11/125\n",
      "449/449 [==============================] - ETA: 0s - loss: 1.5360 - accuracy: 0.9106 - precision: 0.7634 - recall: 0.5425 - auc: 0.9287 - f1_score: 0.6334\n",
      "Epoch 11: ReduceLROnPlateau reducing learning rate to 6.24999984211172e-06.\n",
      "449/449 [==============================] - 159s 355ms/step - loss: 1.5360 - accuracy: 0.9106 - precision: 0.7634 - recall: 0.5425 - auc: 0.9287 - f1_score: 0.6334 - val_loss: 1.4861 - val_accuracy: 0.8790 - val_precision: 0.6072 - val_recall: 0.4340 - val_auc: 0.8597 - val_f1_score: 0.5068 - lr: 1.2500e-05\n",
      "Epoch 12/125\n",
      "449/449 [==============================] - 160s 355ms/step - loss: 1.5180 - accuracy: 0.9115 - precision: 0.7671 - recall: 0.5466 - auc: 0.9299 - f1_score: 0.6377 - val_loss: 1.4863 - val_accuracy: 0.8793 - val_precision: 0.6087 - val_recall: 0.4351 - val_auc: 0.8594 - val_f1_score: 0.5057 - lr: 6.2500e-06\n",
      "Epoch 13/125\n",
      "449/449 [==============================] - 159s 354ms/step - loss: 1.5407 - accuracy: 0.9108 - precision: 0.7666 - recall: 0.5403 - auc: 0.9287 - f1_score: 0.6331 - val_loss: 1.4914 - val_accuracy: 0.8793 - val_precision: 0.6093 - val_recall: 0.4327 - val_auc: 0.8589 - val_f1_score: 0.5040 - lr: 6.2500e-06\n",
      "Epoch 14/125\n",
      "449/449 [==============================] - 161s 357ms/step - loss: 1.5287 - accuracy: 0.9114 - precision: 0.7668 - recall: 0.5457 - auc: 0.9295 - f1_score: 0.6371 - val_loss: 1.4878 - val_accuracy: 0.8793 - val_precision: 0.6088 - val_recall: 0.4337 - val_auc: 0.8593 - val_f1_score: 0.5026 - lr: 6.2500e-06\n",
      "Epoch 15/125\n",
      "449/449 [==============================] - 161s 359ms/step - loss: 1.5090 - accuracy: 0.9121 - precision: 0.7713 - recall: 0.5464 - auc: 0.9304 - f1_score: 0.6388 - val_loss: 1.4884 - val_accuracy: 0.8790 - val_precision: 0.6066 - val_recall: 0.4358 - val_auc: 0.8595 - val_f1_score: 0.5076 - lr: 6.2500e-06\n",
      "Epoch 16/125\n",
      "449/449 [==============================] - 159s 353ms/step - loss: 1.5235 - accuracy: 0.9125 - precision: 0.7732 - recall: 0.5487 - auc: 0.9310 - f1_score: 0.6411 - val_loss: 1.4958 - val_accuracy: 0.8788 - val_precision: 0.6059 - val_recall: 0.4329 - val_auc: 0.8584 - val_f1_score: 0.5026 - lr: 6.2500e-06\n",
      "Epoch 17/125\n",
      "449/449 [==============================] - 159s 353ms/step - loss: 1.5202 - accuracy: 0.9122 - precision: 0.7716 - recall: 0.5474 - auc: 0.9302 - f1_score: 0.6396 - val_loss: 1.4901 - val_accuracy: 0.8794 - val_precision: 0.6085 - val_recall: 0.4366 - val_auc: 0.8591 - val_f1_score: 0.5098 - lr: 6.2500e-06\n",
      "Epoch 18/125\n",
      "449/449 [==============================] - 159s 355ms/step - loss: 1.5169 - accuracy: 0.9120 - precision: 0.7681 - recall: 0.5502 - auc: 0.9299 - f1_score: 0.6404 - val_loss: 1.4922 - val_accuracy: 0.8787 - val_precision: 0.6057 - val_recall: 0.4330 - val_auc: 0.8587 - val_f1_score: 0.5050 - lr: 6.2500e-06\n",
      "Epoch 19/125\n",
      "449/449 [==============================] - 158s 353ms/step - loss: 1.5315 - accuracy: 0.9116 - precision: 0.7669 - recall: 0.5476 - auc: 0.9294 - f1_score: 0.6384 - val_loss: 1.4894 - val_accuracy: 0.8786 - val_precision: 0.6048 - val_recall: 0.4341 - val_auc: 0.8594 - val_f1_score: 0.5048 - lr: 6.2500e-06\n",
      "Epoch 20/125\n",
      "449/449 [==============================] - 159s 353ms/step - loss: 1.5111 - accuracy: 0.9126 - precision: 0.7712 - recall: 0.5516 - auc: 0.9310 - f1_score: 0.6425 - val_loss: 1.4885 - val_accuracy: 0.8787 - val_precision: 0.6061 - val_recall: 0.4316 - val_auc: 0.8590 - val_f1_score: 0.5054 - lr: 6.2500e-06\n",
      "Epoch 21/125\n",
      "449/449 [==============================] - ETA: 0s - loss: 1.5114 - accuracy: 0.9119 - precision: 0.7682 - recall: 0.5493 - auc: 0.9308 - f1_score: 0.6398\n",
      "Epoch 21: ReduceLROnPlateau reducing learning rate to 3.12499992105586e-06.\n",
      "449/449 [==============================] - 158s 352ms/step - loss: 1.5114 - accuracy: 0.9119 - precision: 0.7682 - recall: 0.5493 - auc: 0.9308 - f1_score: 0.6398 - val_loss: 1.4888 - val_accuracy: 0.8788 - val_precision: 0.6060 - val_recall: 0.4329 - val_auc: 0.8593 - val_f1_score: 0.5050 - lr: 6.2500e-06\n",
      "Epoch 21: early stopping\n"
     ]
    }
   ],
   "source": [
    "# Run Model\n",
    "\n",
    "counter = Counter(train_dataset.classes)                          \n",
    "max_val = float(max(counter.values()))       \n",
    "class_weights = {class_id : round(max_val/num_images,2) for class_id, num_images in counter.items()}  \n",
    "\n",
    "lrd = ReduceLROnPlateau(monitor = 'val_loss',patience = PATIENCE,verbose = 1,factor = 0.50, min_lr = 1e-10)\n",
    "mcp = ModelCheckpoint('model.h5')\n",
    "es = EarlyStopping(verbose=1, patience=20)\n",
    "\n",
    "history=model.fit(train_dataset,\n",
    "                  validation_data=test_dataset,\n",
    "                  epochs = EPOCHS,\n",
    "                  verbose =1,\n",
    "                  callbacks = [lrd,mcp,es], \n",
    "                  class_weight = class_weights)\n"
   ]
  },
  {
   "cell_type": "markdown",
   "metadata": {
    "id": "_TKcX-bSWZ33"
   },
   "source": [
    "# 6. Evaluate Model"
   ]
  },
  {
   "cell_type": "markdown",
   "metadata": {
    "id": "Ezjl4VURWZ34"
   },
   "source": [
    "## 6.1 Check some Score "
   ]
  },
  {
   "cell_type": "code",
   "execution_count": null,
   "metadata": {
    "colab": {
     "base_uri": "https://localhost:8080/",
     "height": 380
    },
    "id": "R8seQXAmWZ34",
    "outputId": "0411d9f2-7cd3-4e00-fec6-1a8c02e40053"
   },
   "outputs": [
    {
     "ename": "RuntimeError",
     "evalue": "ignored",
     "output_type": "error",
     "traceback": [
      "\u001b[0;31m---------------------------------------------------------------------------\u001b[0m",
      "\u001b[0;31mRuntimeError\u001b[0m                              Traceback (most recent call last)",
      "\u001b[0;32m<ipython-input-29-e1be4b36e4c5>\u001b[0m in \u001b[0;36m<module>\u001b[0;34m\u001b[0m\n\u001b[1;32m      1\u001b[0m \u001b[0;31m#  Som Scores of train & test set\u001b[0m\u001b[0;34m\u001b[0m\u001b[0;34m\u001b[0m\u001b[0;34m\u001b[0m\u001b[0m\n\u001b[1;32m      2\u001b[0m \u001b[0;34m\u001b[0m\u001b[0m\n\u001b[0;32m----> 3\u001b[0;31m \u001b[0mtrain_evalation\u001b[0m \u001b[0;34m=\u001b[0m \u001b[0mmodel\u001b[0m\u001b[0;34m.\u001b[0m\u001b[0mevaluate\u001b[0m\u001b[0;34m(\u001b[0m\u001b[0mtrain_dataset\u001b[0m\u001b[0;34m)\u001b[0m\u001b[0;34m\u001b[0m\u001b[0;34m\u001b[0m\u001b[0m\n\u001b[0m\u001b[1;32m      4\u001b[0m \u001b[0mtest_evaluation\u001b[0m \u001b[0;34m=\u001b[0m \u001b[0mmodel\u001b[0m\u001b[0;34m.\u001b[0m\u001b[0mevaluate\u001b[0m\u001b[0;34m(\u001b[0m\u001b[0mtest_dataset\u001b[0m\u001b[0;34m)\u001b[0m\u001b[0;34m\u001b[0m\u001b[0;34m\u001b[0m\u001b[0m\n",
      "\u001b[0;32m/usr/local/lib/python3.8/dist-packages/keras/utils/traceback_utils.py\u001b[0m in \u001b[0;36merror_handler\u001b[0;34m(*args, **kwargs)\u001b[0m\n\u001b[1;32m     68\u001b[0m             \u001b[0;31m# To get the full stack trace, call:\u001b[0m\u001b[0;34m\u001b[0m\u001b[0;34m\u001b[0m\u001b[0;34m\u001b[0m\u001b[0m\n\u001b[1;32m     69\u001b[0m             \u001b[0;31m# `tf.debugging.disable_traceback_filtering()`\u001b[0m\u001b[0;34m\u001b[0m\u001b[0;34m\u001b[0m\u001b[0;34m\u001b[0m\u001b[0m\n\u001b[0;32m---> 70\u001b[0;31m             \u001b[0;32mraise\u001b[0m \u001b[0me\u001b[0m\u001b[0;34m.\u001b[0m\u001b[0mwith_traceback\u001b[0m\u001b[0;34m(\u001b[0m\u001b[0mfiltered_tb\u001b[0m\u001b[0;34m)\u001b[0m \u001b[0;32mfrom\u001b[0m \u001b[0;32mNone\u001b[0m\u001b[0;34m\u001b[0m\u001b[0;34m\u001b[0m\u001b[0m\n\u001b[0m\u001b[1;32m     71\u001b[0m         \u001b[0;32mfinally\u001b[0m\u001b[0;34m:\u001b[0m\u001b[0;34m\u001b[0m\u001b[0;34m\u001b[0m\u001b[0m\n\u001b[1;32m     72\u001b[0m             \u001b[0;32mdel\u001b[0m \u001b[0mfiltered_tb\u001b[0m\u001b[0;34m\u001b[0m\u001b[0;34m\u001b[0m\u001b[0m\n",
      "\u001b[0;32m/usr/local/lib/python3.8/dist-packages/keras/engine/training.py\u001b[0m in \u001b[0;36m_assert_compile_was_called\u001b[0;34m(self)\u001b[0m\n\u001b[1;32m   3688\u001b[0m         \u001b[0;31m# (i.e. whether the model is built and its inputs/outputs are set).\u001b[0m\u001b[0;34m\u001b[0m\u001b[0;34m\u001b[0m\u001b[0;34m\u001b[0m\u001b[0m\n\u001b[1;32m   3689\u001b[0m         \u001b[0;32mif\u001b[0m \u001b[0;32mnot\u001b[0m \u001b[0mself\u001b[0m\u001b[0;34m.\u001b[0m\u001b[0m_is_compiled\u001b[0m\u001b[0;34m:\u001b[0m\u001b[0;34m\u001b[0m\u001b[0;34m\u001b[0m\u001b[0m\n\u001b[0;32m-> 3690\u001b[0;31m             raise RuntimeError(\n\u001b[0m\u001b[1;32m   3691\u001b[0m                 \u001b[0;34m\"You must compile your model before \"\u001b[0m\u001b[0;34m\u001b[0m\u001b[0;34m\u001b[0m\u001b[0m\n\u001b[1;32m   3692\u001b[0m                 \u001b[0;34m\"training/testing. \"\u001b[0m\u001b[0;34m\u001b[0m\u001b[0;34m\u001b[0m\u001b[0m\n",
      "\u001b[0;31mRuntimeError\u001b[0m: You must compile your model before training/testing. Use `model.compile(optimizer, loss)`."
     ]
    }
   ],
   "source": [
    "#  Som Scores of train & test set\n",
    "\n",
    "train_evalation = model.evaluate(train_dataset)\n",
    "test_evaluation = model.evaluate(test_dataset)"
   ]
  },
  {
   "cell_type": "code",
   "execution_count": null,
   "metadata": {
    "colab": {
     "base_uri": "https://localhost:8080/",
     "height": 246
    },
    "id": "wQ6HLpBqWZ36",
    "outputId": "734c2d67-75cc-48c1-d61f-a5babbfcedf0"
   },
   "outputs": [
    {
     "ename": "NameError",
     "evalue": "ignored",
     "output_type": "error",
     "traceback": [
      "\u001b[0;31m---------------------------------------------------------------------------\u001b[0m",
      "\u001b[0;31mNameError\u001b[0m                                 Traceback (most recent call last)",
      "\u001b[0;32m<ipython-input-30-f889ac1ca4a5>\u001b[0m in \u001b[0;36m<module>\u001b[0;34m\u001b[0m\n\u001b[1;32m      2\u001b[0m \u001b[0;34m\u001b[0m\u001b[0m\n\u001b[1;32m      3\u001b[0m df = pd.DataFrame(list(zip(metric_list, \n\u001b[0;32m----> 4\u001b[0;31m                            \u001b[0;34m[\u001b[0m\u001b[0mround\u001b[0m\u001b[0;34m(\u001b[0m\u001b[0mnum\u001b[0m\u001b[0;34m,\u001b[0m \u001b[0;36m3\u001b[0m\u001b[0;34m)\u001b[0m \u001b[0;32mfor\u001b[0m \u001b[0mnum\u001b[0m \u001b[0;32min\u001b[0m \u001b[0mtrain_evalation\u001b[0m\u001b[0;34m]\u001b[0m\u001b[0;34m,\u001b[0m\u001b[0;34m\u001b[0m\u001b[0;34m\u001b[0m\u001b[0m\n\u001b[0m\u001b[1;32m      5\u001b[0m                            [round(num, 3) for num in test_evaluation])),\n\u001b[1;32m      6\u001b[0m                   columns=['Metric Name', 'Train', 'Validate'])\n",
      "\u001b[0;31mNameError\u001b[0m: name 'train_evalation' is not defined"
     ]
    }
   ],
   "source": [
    "metric_list = [\"Loss\",\"Accuracy\", \"Precision\", \"Recall\", \"Auc\", \"F1_Score\"]\n",
    "\n",
    "df = pd.DataFrame(list(zip(metric_list, \n",
    "                           [round(num, 3) for num in train_evalation], \n",
    "                           [round(num, 3) for num in test_evaluation])),\n",
    "                  columns=['Metric Name', 'Train', 'Validate'])\n",
    "\n",
    "print('\\n\\nModel Scores\\n')\n",
    "\n",
    "HTML(df.to_html(escape=False))\n"
   ]
  },
  {
   "cell_type": "markdown",
   "metadata": {
    "id": "i8taZvDrWZ36"
   },
   "source": [
    "## 6.2 Visualize results"
   ]
  },
  {
   "cell_type": "code",
   "execution_count": null,
   "metadata": {
    "colab": {
     "base_uri": "https://localhost:8080/",
     "height": 246
    },
    "id": "6qbjVfjvWZ37",
    "outputId": "585f08b4-ec1f-4eda-f01a-eb194b110394"
   },
   "outputs": [
    {
     "ename": "NameError",
     "evalue": "ignored",
     "output_type": "error",
     "traceback": [
      "\u001b[0;31m---------------------------------------------------------------------------\u001b[0m",
      "\u001b[0;31mNameError\u001b[0m                                 Traceback (most recent call last)",
      "\u001b[0;32m<ipython-input-10-0daf589e8b4c>\u001b[0m in \u001b[0;36m<module>\u001b[0;34m\u001b[0m\n\u001b[0;32m----> 1\u001b[0;31m \u001b[0mhs\u001b[0m\u001b[0;34m=\u001b[0m\u001b[0mhistory\u001b[0m\u001b[0;34m.\u001b[0m\u001b[0mhistory\u001b[0m\u001b[0;34m\u001b[0m\u001b[0;34m\u001b[0m\u001b[0m\n\u001b[0m\u001b[1;32m      2\u001b[0m \u001b[0;34m\u001b[0m\u001b[0m\n\u001b[1;32m      3\u001b[0m \u001b[0macc\u001b[0m \u001b[0;34m=\u001b[0m \u001b[0mhs\u001b[0m\u001b[0;34m[\u001b[0m\u001b[0;34m'accuracy'\u001b[0m\u001b[0;34m]\u001b[0m\u001b[0;34m\u001b[0m\u001b[0;34m\u001b[0m\u001b[0m\n\u001b[1;32m      4\u001b[0m \u001b[0mval_acc\u001b[0m \u001b[0;34m=\u001b[0m \u001b[0mhs\u001b[0m\u001b[0;34m[\u001b[0m\u001b[0;34m'val_accuracy'\u001b[0m\u001b[0;34m]\u001b[0m\u001b[0;34m\u001b[0m\u001b[0;34m\u001b[0m\u001b[0m\n\u001b[1;32m      5\u001b[0m \u001b[0mloss\u001b[0m \u001b[0;34m=\u001b[0m  \u001b[0mhs\u001b[0m\u001b[0;34m[\u001b[0m\u001b[0;34m'loss'\u001b[0m\u001b[0;34m]\u001b[0m\u001b[0;34m\u001b[0m\u001b[0;34m\u001b[0m\u001b[0m\n",
      "\u001b[0;31mNameError\u001b[0m: name 'history' is not defined"
     ]
    }
   ],
   "source": [
    "hs=history.history\n",
    "\n",
    "acc = hs['accuracy']\n",
    "val_acc = hs['val_accuracy']\n",
    "loss =  hs['loss']\n",
    "val_loss = hs['val_loss']\n",
    "auc =  hs['auc']\n",
    "val_auc = hs['val_auc']\n",
    "precision =hs['precision']\n",
    "val_precision =hs['val_precision']\n",
    "f1 = hs['f1_score']\n",
    "val_f1 = hs['val_f1_score']              \n",
    "\n",
    "plt.style.use('Solarize_Light2')\n",
    "\n",
    "fig, (ax1, ax2,ax3,ax4,ax5) = plt.subplots(1,5, figsize= (20,5))\n",
    "fig.suptitle(\" MODEL'S METRICS VISUALIZATION \")\n",
    "\n",
    "ax1.plot(range(1, len(acc) + 1), acc)\n",
    "ax1.plot(range(1, len(val_acc) + 1), val_acc)\n",
    "ax1.set_title('History of Accuracy')\n",
    "ax1.set_xlabel('Epochs')\n",
    "ax1.set_ylabel('Accuracy')\n",
    "ax1.legend(['training', 'validation'])\n",
    "\n",
    "\n",
    "ax2.plot(range(1, len(loss) + 1), loss)\n",
    "ax2.plot(range(1, len(val_loss) + 1), val_loss)\n",
    "ax2.set_title('History of Loss')\n",
    "ax2.set_xlabel('Epochs')\n",
    "ax2.set_ylabel('Loss')\n",
    "ax2.legend(['training', 'validation'])\n",
    "\n",
    "ax3.plot(range(1, len(auc) + 1), auc)\n",
    "ax3.plot(range(1, len(val_auc) + 1), val_auc)\n",
    "ax3.set_title('History of AUC')\n",
    "ax3.set_xlabel('Epochs')\n",
    "ax3.set_ylabel('AUC')\n",
    "ax3.legend(['training', 'validation'])\n",
    "\n",
    "ax4.plot(range(1, len(precision) + 1), precision)\n",
    "ax4.plot(range(1, len(val_precision) + 1), val_precision)\n",
    "ax4.set_title('History of Precision')\n",
    "ax4.set_xlabel('Epochs')\n",
    "ax4.set_ylabel('Precision')\n",
    "ax4.legend(['training', 'validation'])\n",
    "\n",
    "ax5.plot(range(1, len(f1) + 1), f1)\n",
    "ax5.plot(range(1, len(val_f1) + 1), val_f1)\n",
    "ax5.set_title('History of F1-score')\n",
    "ax5.set_xlabel('Epochs')\n",
    "ax5.set_ylabel('F1 score')\n",
    "ax5.legend(['training', 'validation'])\n",
    "\n",
    "plt.show()"
   ]
  },
  {
   "cell_type": "markdown",
   "metadata": {
    "id": "LvnfWR_VWZ39"
   },
   "source": [
    "## 6.3 Confusion Matrix"
   ]
  },
  {
   "cell_type": "code",
   "execution_count": null,
   "metadata": {
    "colab": {
     "base_uri": "https://localhost:8080/"
    },
    "id": "2LuMoqcAWZ39",
    "outputId": "fd7e63e1-867d-4d2c-acaf-e550f4f9a9b7"
   },
   "outputs": [
    {
     "name": "stdout",
     "output_type": "stream",
     "text": [
      "113/113 [==============================] - 15s 125ms/step\n"
     ]
    }
   ],
   "source": [
    "y_true = test_dataset.classes\n",
    "y_pred =  model.predict(test_dataset)\n",
    "y_pred= tf.argmax(y_pred, axis = 1).numpy()\n",
    "\n",
    "cm = confusion_matrix(y_true = y_true, y_pred = y_pred)"
   ]
  },
  {
   "cell_type": "code",
   "execution_count": null,
   "metadata": {
    "colab": {
     "base_uri": "https://localhost:8080/",
     "height": 735
    },
    "id": "XtzL9h-_WZ39",
    "outputId": "7dc6ccae-44af-4d07-c5dd-9a45c02661be"
   },
   "outputs": [
    {
     "name": "stdout",
     "output_type": "stream",
     "text": [
      "Confusion matrix, without normalization\n",
      "\n",
      "[[ 951    0    6    1    0    0    0]\n",
      " [ 109    0    0    1    1    0    0]\n",
      " [1011    1    6    5    0    1    0]\n",
      " [1749    0   12   10    3    0    0]\n",
      " [1219    0    9    3    2    0    0]\n",
      " [1229    0   11    5    2    0    0]\n",
      " [ 825    1    2    3    0    0    0]]\n",
      "\n",
      "\n",
      "\n"
     ]
    },
    {
     "data": {
      "image/png": "[encoded data removed]",
      "text/plain": [
       "<Figure size 1008x504 with 2 Axes>"
      ]
     },
     "metadata": {},
     "output_type": "display_data"
    }
   ],
   "source": [
    "plt.rcParams['figure.figsize'] = (14,7)\n",
    "\n",
    "plt.style.use('seaborn-darkgrid')\n",
    "plt.imshow(cm, interpolation='nearest', cmap='Reds')\n",
    "plt.title('Confusion matrix')\n",
    "plt.colorbar()\n",
    "\n",
    "tick_marks = np.arange(len(classes))\n",
    "plt.xticks(tick_marks, classes, rotation=45)\n",
    "plt.yticks(tick_marks, classes)    \n",
    "\n",
    "print('Confusion matrix, without normalization\\n')   \n",
    "print(cm)\n",
    "\n",
    "print(\"\\n\\n\")\n",
    "thresh = cm.max() / 2.\n",
    "for i, j in itertools.product(range(cm.shape[0]), range(cm.shape[1])):\n",
    "    plt.text(j, i, cm[i, j],\n",
    "        horizontalalignment=\"center\",\n",
    "        color=\"white\" if cm[i, j] > thresh else \"black\")\n",
    "\n",
    "plt.tight_layout()\n",
    "plt.ylabel('True label')\n",
    "plt.xlabel('Predicted label')\n",
    "plt.show()"
   ]
  },
  {
   "cell_type": "code",
   "execution_count": null,
   "metadata": {
    "colab": {
     "base_uri": "https://localhost:8080/",
     "height": 441
    },
    "id": "h5a0TWb1WZ3-",
    "outputId": "450bb704-bac1-4c9c-dac5-e2a9236151e2"
   },
   "outputs": [
    {
     "data": {
      "image/png": "[encoded data removed]",
      "text/plain": [
       "<Figure size 864x432 with 2 Axes>"
      ]
     },
     "metadata": {},
     "output_type": "display_data"
    }
   ],
   "source": [
    "plt.style.use('seaborn')\n",
    "\n",
    "cm = cm.astype('float') / cm.sum(axis=1)[:, np.newaxis]\n",
    "fig, ax = plt.subplots(figsize=(12,6))\n",
    "\n",
    "im = ax.imshow(cm, interpolation='nearest', cmap=plt.cm.Blues)\n",
    "ax.figure.colorbar(im, ax=ax)\n",
    "\n",
    "ax.set(xticks=np.arange(cm.shape[1]),\n",
    "       yticks=np.arange(cm.shape[0]),\n",
    "       xticklabels=classes, yticklabels=classes,\n",
    "       title = 'Normalized confusion matrix',\n",
    "       ylabel='True label',\n",
    "       xlabel='Predicted label')\n",
    "\n",
    "plt.setp(ax.get_xticklabels(), rotation=45, ha=\"right\",\n",
    "         rotation_mode=\"anchor\")\n",
    "\n",
    "\n",
    "fmt = '.2f' \n",
    "thresh = cm.max() / 2.\n",
    "for i in range(cm.shape[0]):\n",
    "    for j in range(cm.shape[1]):\n",
    "        ax.text(j, i, format(cm[i, j], fmt),\n",
    "                ha=\"center\", va=\"center\",\n",
    "                color=\"white\" if cm[i, j] > thresh else \"black\")\n",
    "\n",
    "fig.tight_layout()\n",
    "plt.show()\n"
   ]
  },
  {
   "cell_type": "code",
   "execution_count": null,
   "metadata": {
    "colab": {
     "base_uri": "https://localhost:8080/",
     "height": 246
    },
    "id": "r88_yEYQyI3h",
    "outputId": "025d2ea5-155c-4505-ee32-477436091f97"
   },
   "outputs": [
    {
     "ename": "NameError",
     "evalue": "ignored",
     "output_type": "error",
     "traceback": [
      "\u001b[0;31m---------------------------------------------------------------------------\u001b[0m",
      "\u001b[0;31mNameError\u001b[0m                                 Traceback (most recent call last)",
      "\u001b[0;32m<ipython-input-9-090c901b6db3>\u001b[0m in \u001b[0;36m<module>\u001b[0;34m\u001b[0m\n\u001b[1;32m      2\u001b[0m \u001b[0;32mimport\u001b[0m \u001b[0mnumpy\u001b[0m \u001b[0;32mas\u001b[0m \u001b[0mnp\u001b[0m\u001b[0;34m\u001b[0m\u001b[0;34m\u001b[0m\u001b[0m\n\u001b[1;32m      3\u001b[0m \u001b[0;32mfrom\u001b[0m \u001b[0mkeras\u001b[0m\u001b[0;34m.\u001b[0m\u001b[0mmodels\u001b[0m \u001b[0;32mimport\u001b[0m \u001b[0mload_model\u001b[0m\u001b[0;34m\u001b[0m\u001b[0;34m\u001b[0m\u001b[0m\n\u001b[0;32m----> 4\u001b[0;31m \u001b[0mmodel\u001b[0m \u001b[0;34m=\u001b[0m \u001b[0mload_model\u001b[0m\u001b[0;34m(\u001b[0m\u001b[0;34m\"/content/gdrive/MyDrive/model/mobilenet.h5\"\u001b[0m\u001b[0;34m,\u001b[0m \u001b[0mcustom_objects\u001b[0m\u001b[0;34m=\u001b[0m\u001b[0;34m{\u001b[0m\u001b[0;34m'f1_score'\u001b[0m\u001b[0;34m:\u001b[0m \u001b[0mf1_score\u001b[0m\u001b[0;34m}\u001b[0m\u001b[0;34m)\u001b[0m\u001b[0;34m\u001b[0m\u001b[0;34m\u001b[0m\u001b[0m\n\u001b[0m\u001b[1;32m      5\u001b[0m \u001b[0;34m\u001b[0m\u001b[0m\n\u001b[1;32m      6\u001b[0m \u001b[0mpredictions\u001b[0m \u001b[0;34m=\u001b[0m \u001b[0mmodel\u001b[0m\u001b[0;34m.\u001b[0m\u001b[0mpredict\u001b[0m\u001b[0;34m(\u001b[0m\u001b[0mtest_dataset\u001b[0m\u001b[0;34m)\u001b[0m\u001b[0;34m\u001b[0m\u001b[0;34m\u001b[0m\u001b[0m\n",
      "\u001b[0;31mNameError\u001b[0m: name 'f1_score' is not defined"
     ]
    }
   ],
   "source": [
    "import matplotlib.pyplot as plt\n",
    "import numpy as np\n",
    "from keras.models import load_model\n",
    "model = load_model(\"/content/gdrive/MyDrive/model/mobilenet.h5\", custom_objects={'f1_score': f1_score})\n",
    "\n",
    "predictions = model.predict(test_dataset)\n",
    "\n",
    "# Display a graph of the predictions\n",
    "plt.bar(test_dataset.class_indices.keys(), predictions.mean(axis=0))\n",
    "plt.xlabel('Classes')\n",
    "plt.ylabel('Prediction')\n",
    "plt.show()"
   ]
  },
  {
   "cell_type": "markdown",
   "metadata": {
    "id": "tUc2EgI8WZ3_"
   },
   "source": [
    "# 7. Save Model"
   ]
  },
  {
   "cell_type": "code",
   "execution_count": null,
   "metadata": {
    "colab": {
     "base_uri": "https://localhost:8080/",
     "height": 246
    },
    "id": "Wsv9hvcyWZ3_",
    "outputId": "34581085-5f5a-4acc-f292-b657e2e457ca"
   },
   "outputs": [
    {
     "ename": "NameError",
     "evalue": "ignored",
     "output_type": "error",
     "traceback": [
      "\u001b[0;31m---------------------------------------------------------------------------\u001b[0m",
      "\u001b[0;31mNameError\u001b[0m                                 Traceback (most recent call last)",
      "\u001b[0;32m<ipython-input-8-47901854e1b6>\u001b[0m in \u001b[0;36m<module>\u001b[0;34m\u001b[0m\n\u001b[0;32m----> 1\u001b[0;31m \u001b[0mmodel_json\u001b[0m \u001b[0;34m=\u001b[0m \u001b[0mmodel\u001b[0m\u001b[0;34m.\u001b[0m\u001b[0mto_json\u001b[0m\u001b[0;34m(\u001b[0m\u001b[0;34m)\u001b[0m\u001b[0;34m\u001b[0m\u001b[0;34m\u001b[0m\u001b[0m\n\u001b[0m\u001b[1;32m      2\u001b[0m \u001b[0;32mwith\u001b[0m \u001b[0mopen\u001b[0m\u001b[0;34m(\u001b[0m\u001b[0;34m\"model.json\"\u001b[0m\u001b[0;34m,\u001b[0m \u001b[0;34m\"w\"\u001b[0m\u001b[0;34m)\u001b[0m \u001b[0;32mas\u001b[0m \u001b[0mjson_file\u001b[0m\u001b[0;34m:\u001b[0m\u001b[0;34m\u001b[0m\u001b[0;34m\u001b[0m\u001b[0m\n\u001b[1;32m      3\u001b[0m     \u001b[0mjson_file\u001b[0m\u001b[0;34m.\u001b[0m\u001b[0mwrite\u001b[0m\u001b[0;34m(\u001b[0m\u001b[0mmodel_json\u001b[0m\u001b[0;34m)\u001b[0m\u001b[0;34m\u001b[0m\u001b[0;34m\u001b[0m\u001b[0m\n\u001b[1;32m      4\u001b[0m \u001b[0mmodel\u001b[0m\u001b[0;34m.\u001b[0m\u001b[0msave_weights\u001b[0m\u001b[0;34m(\u001b[0m\u001b[0;34m\"model.h5\"\u001b[0m\u001b[0;34m)\u001b[0m\u001b[0;34m\u001b[0m\u001b[0;34m\u001b[0m\u001b[0m\n\u001b[1;32m      5\u001b[0m \u001b[0mprint\u001b[0m\u001b[0;34m(\u001b[0m\u001b[0;34m\"Saved model to disk\"\u001b[0m\u001b[0;34m)\u001b[0m\u001b[0;34m\u001b[0m\u001b[0;34m\u001b[0m\u001b[0m\n",
      "\u001b[0;31mNameError\u001b[0m: name 'model' is not defined"
     ]
    }
   ],
   "source": [
    "model_json = model.to_json()\n",
    "with open(\"model.json\", \"w\") as json_file:\n",
    "    json_file.write(model_json)\n",
    "model.save_weights(\"model.h5\")\n",
    "print(\"Saved model to disk\")"
   ]
  },
  {
   "cell_type": "code",
   "execution_count": null,
   "metadata": {
    "id": "WuY6yISQvhu2"
   },
   "outputs": [],
   "source": [
    "model.save(\"mobilenet.h5\")"
   ]
  },
  {
   "cell_type": "code",
   "execution_count": null,
   "metadata": {
    "colab": {
     "base_uri": "https://localhost:8080/",
     "height": 17
    },
    "id": "l_5IFmdP8oUo",
    "outputId": "570dacdc-b87b-44bd-ac39-d97f79c5585f"
   },
   "outputs": [
    {
     "data": {
      "application/javascript": [
       "\n",
       "    async function download(id, filename, size) {\n",
       "      if (!google.colab.kernel.accessAllowed) {\n",
       "        return;\n",
       "      }\n",
       "      const div = document.createElement('div');\n",
       "      const label = document.createElement('label');\n",
       "      label.textContent = `Downloading \"${filename}\": `;\n",
       "      div.appendChild(label);\n",
       "      const progress = document.createElement('progress');\n",
       "      progress.max = size;\n",
       "      div.appendChild(progress);\n",
       "      document.body.appendChild(div);\n",
       "\n",
       "      const buffers = [];\n",
       "      let downloaded = 0;\n",
       "\n",
       "      const channel = await google.colab.kernel.comms.open(id);\n",
       "      // Send a message to notify the kernel that we're ready.\n",
       "      channel.send({})\n",
       "\n",
       "      for await (const message of channel.messages) {\n",
       "        // Send a message to notify the kernel that we're ready.\n",
       "        channel.send({})\n",
       "        if (message.buffers) {\n",
       "          for (const buffer of message.buffers) {\n",
       "            buffers.push(buffer);\n",
       "            downloaded += buffer.byteLength;\n",
       "            progress.value = downloaded;\n",
       "          }\n",
       "        }\n",
       "      }\n",
       "      const blob = new Blob(buffers, {type: 'application/binary'});\n",
       "      const a = document.createElement('a');\n",
       "      a.href = window.URL.createObjectURL(blob);\n",
       "      a.download = filename;\n",
       "      div.appendChild(a);\n",
       "      a.click();\n",
       "      div.remove();\n",
       "    }\n",
       "  "
      ],
      "text/plain": [
       "<IPython.core.display.Javascript object>"
      ]
     },
     "metadata": {},
     "output_type": "display_data"
    },
    {
     "data": {
      "application/javascript": [
       "download(\"download_af3586d5-b4fe-4686-8d53-b8bbedd76cc5\", \"model.h5\", 14237856)"
      ],
      "text/plain": [
       "<IPython.core.display.Javascript object>"
      ]
     },
     "metadata": {},
     "output_type": "display_data"
    }
   ],
   "source": [
    "from google.colab import files\n",
    "\n",
    "files.download('model.h5')"
   ]
  },
  {
   "cell_type": "code",
   "execution_count": null,
   "metadata": {
    "colab": {
     "base_uri": "https://localhost:8080/",
     "height": 269
    },
    "id": "J-5QDO-wyyez",
    "outputId": "e6aaa338-c7a0-4b4b-a855-b394b074c871"
   },
   "outputs": [
    {
     "data": {
      "image/png": "[encoded data removed]",
      "text/plain": [
       "<Figure size 432x288 with 1 Axes>"
      ]
     },
     "metadata": {},
     "output_type": "display_data"
    }
   ],
   "source": [
    "import cv2\n",
    "import matplotlib.pyplot as plt\n",
    "plt.style.use('grayscale')\n",
    "plt.grid(visible=None)\n",
    "img_path1='/Training_4530522.jpg'\n",
    "\n",
    "# Read image\n",
    "img1 = cv2.imread(img_path1)\n",
    "\n",
    "\n",
    "\n",
    "# Display the image\n",
    "plt.imshow(img1)\n",
    "plt.show()\n"
   ]
  },
  {
   "cell_type": "markdown",
   "metadata": {
    "id": "NrmmihPLWZ4B"
   },
   "source": [
    "# 8. Test/Predict"
   ]
  },
  {
   "cell_type": "code",
   "execution_count": null,
   "metadata": {
    "colab": {
     "base_uri": "https://localhost:8080/"
    },
    "id": "y97bCtB4WZ4B",
    "outputId": "00730428-5d6d-4d41-f4e5-3093c7961f91"
   },
   "outputs": [
    {
     "name": "stdout",
     "output_type": "stream",
     "text": [
      "(1, 48, 48, 3)\n"
     ]
    }
   ],
   "source": [
    "img=image.load_img(img_path1,target_size=IMAGE_SIZE)\n",
    "img = np.expand_dims(img, axis=0)\n",
    "print(img.shape)"
   ]
  },
  {
   "cell_type": "code",
   "execution_count": null,
   "metadata": {
    "colab": {
     "base_uri": "https://localhost:8080/",
     "height": 246
    },
    "id": "S-DAfD_4WZ4C",
    "outputId": "b329befd-5bd6-4203-b0e4-9c322b032f83"
   },
   "outputs": [
    {
     "ename": "NameError",
     "evalue": "ignored",
     "output_type": "error",
     "traceback": [
      "\u001b[0;31m---------------------------------------------------------------------------\u001b[0m",
      "\u001b[0;31mNameError\u001b[0m                                 Traceback (most recent call last)",
      "\u001b[0;32m<ipython-input-7-f503e2d2d395>\u001b[0m in \u001b[0;36m<module>\u001b[0;34m\u001b[0m\n\u001b[0;32m----> 1\u001b[0;31m \u001b[0mresult\u001b[0m\u001b[0;34m=\u001b[0m\u001b[0mmodel\u001b[0m\u001b[0;34m.\u001b[0m\u001b[0mpredict\u001b[0m\u001b[0;34m(\u001b[0m\u001b[0mimg\u001b[0m\u001b[0;34m)\u001b[0m\u001b[0;34m\u001b[0m\u001b[0;34m\u001b[0m\u001b[0m\n\u001b[0m\u001b[1;32m      2\u001b[0m \u001b[0mprint\u001b[0m\u001b[0;34m(\u001b[0m\u001b[0mresult\u001b[0m\u001b[0;34m)\u001b[0m\u001b[0;34m\u001b[0m\u001b[0;34m\u001b[0m\u001b[0m\n\u001b[1;32m      3\u001b[0m \u001b[0my_pred\u001b[0m\u001b[0;34m=\u001b[0m\u001b[0mnp\u001b[0m\u001b[0;34m.\u001b[0m\u001b[0margmax\u001b[0m\u001b[0;34m(\u001b[0m\u001b[0mresult\u001b[0m\u001b[0;34m[\u001b[0m\u001b[0;36m0\u001b[0m\u001b[0;34m]\u001b[0m\u001b[0;34m)\u001b[0m\u001b[0;34m\u001b[0m\u001b[0;34m\u001b[0m\u001b[0m\n\u001b[1;32m      4\u001b[0m \u001b[0mprint\u001b[0m\u001b[0;34m(\u001b[0m\u001b[0my_pred\u001b[0m\u001b[0;34m)\u001b[0m\u001b[0;34m\u001b[0m\u001b[0;34m\u001b[0m\u001b[0m\n\u001b[1;32m      5\u001b[0m \u001b[0mprint\u001b[0m\u001b[0;34m(\u001b[0m\u001b[0;34m'The person facial emotion is:'\u001b[0m\u001b[0;34m,\u001b[0m\u001b[0mclasses\u001b[0m\u001b[0;34m[\u001b[0m\u001b[0my_pred\u001b[0m\u001b[0;34m]\u001b[0m\u001b[0;34m)\u001b[0m\u001b[0;34m\u001b[0m\u001b[0;34m\u001b[0m\u001b[0m\n",
      "\u001b[0;31mNameError\u001b[0m: name 'model' is not defined"
     ]
    }
   ],
   "source": [
    "result=model.predict(img)\n",
    "print(result)\n",
    "y_pred=np.argmax(result[0])\n",
    "print(y_pred)\n",
    "print('The person facial emotion is:',classes[y_pred])"
   ]
  },
  {
   "cell_type": "code",
   "execution_count": null,
   "metadata": {
    "id": "zpU5e4SOOJMD"
   },
   "outputs": [],
   "source": [
    "final_layer = model.layers[-1]"
   ]
  },
  {
   "cell_type": "code",
   "execution_count": null,
   "metadata": {
    "colab": {
     "base_uri": "https://localhost:8080/"
    },
    "id": "f91Wdik1OTRT",
    "outputId": "df475642-f1b6-457b-abb2-2fa948980792"
   },
   "outputs": [
    {
     "name": "stdout",
     "output_type": "stream",
     "text": [
      "[array([[-0.17029232,  0.09911646, -0.18165474, -0.13018528,  0.00889701,\n",
      "         0.14468063,  0.18941359],\n",
      "       [ 0.03829421,  0.09700753, -0.04292284,  0.00982004, -0.16413304,\n",
      "         0.18810283, -0.08580104],\n",
      "       [-0.09807985, -0.00156309, -0.09207693,  0.15233962, -0.14746511,\n",
      "        -0.18286744,  0.06863947],\n",
      "       [-0.15526739, -0.02732792,  0.14724515, -0.17661607, -0.17890137,\n",
      "         0.06519435,  0.06439944],\n",
      "       [ 0.11393504,  0.08794038, -0.20615019, -0.0488508 , -0.16882187,\n",
      "        -0.11533646,  0.1932293 ],\n",
      "       [-0.19170484, -0.05314589,  0.09992836,  0.10483278, -0.15391733,\n",
      "        -0.00492543, -0.00158389],\n",
      "       [ 0.00147165,  0.09854691, -0.06922032,  0.07293867,  0.17448507,\n",
      "        -0.01971452,  0.00963724],\n",
      "       [ 0.20523109,  0.0114823 ,  0.1943856 ,  0.04769854, -0.20799464,\n",
      "        -0.07685201, -0.0235294 ],\n",
      "       [ 0.01518954, -0.03657024,  0.08324571,  0.08885272, -0.14977615,\n",
      "        -0.0821811 ,  0.01572911],\n",
      "       [ 0.05127938,  0.13946997, -0.20368664, -0.08133632,  0.12396081,\n",
      "         0.00704874, -0.09553905],\n",
      "       [ 0.15616922, -0.17560568,  0.02627505,  0.17346503, -0.14368533,\n",
      "         0.16414694, -0.04300024],\n",
      "       [-0.14812768,  0.00175473,  0.19091587,  0.01342416, -0.09813127,\n",
      "         0.10918723,  0.18784599],\n",
      "       [ 0.03791286,  0.02513635, -0.0307752 , -0.19357638, -0.07867359,\n",
      "        -0.17305422,  0.14354958],\n",
      "       [ 0.15703745,  0.09031899,  0.10701053, -0.11906945,  0.14553918,\n",
      "         0.0132882 ,  0.00077184],\n",
      "       [ 0.1683983 , -0.00344387, -0.14190224,  0.11082087,  0.10145892,\n",
      "        -0.03557342,  0.12795691],\n",
      "       [-0.0285189 ,  0.18810551,  0.14184941,  0.16963448,  0.17966633,\n",
      "        -0.00337507,  0.08994217],\n",
      "       [ 0.06361906, -0.179232  , -0.15795761, -0.1716729 ,  0.18402962,\n",
      "         0.0345757 ,  0.03777826],\n",
      "       [ 0.05665158, -0.17614102,  0.06064539,  0.14193673, -0.02069546,\n",
      "        -0.02553473, -0.1925697 ],\n",
      "       [ 0.05695511,  0.15549101, -0.12657034,  0.16426657, -0.00662658,\n",
      "        -0.04394488,  0.04153712],\n",
      "       [ 0.00269742, -0.18915161,  0.14793567, -0.19068304,  0.06515829,\n",
      "         0.1390553 ,  0.07747059],\n",
      "       [ 0.07422145, -0.16845903,  0.18816979, -0.0226711 ,  0.19344594,\n",
      "        -0.03445698, -0.00046906],\n",
      "       [-0.16058034, -0.12718904,  0.04656018,  0.10934331, -0.07225037,\n",
      "         0.05020486,  0.00178534],\n",
      "       [ 0.2095732 ,  0.18309955, -0.15559812,  0.08034177, -0.01790205,\n",
      "        -0.10906152, -0.00508828],\n",
      "       [-0.10924307,  0.04481147, -0.05885789, -0.03443572,  0.13757561,\n",
      "        -0.13324377, -0.12479265],\n",
      "       [-0.07695736, -0.01555952, -0.12310748,  0.06092431,  0.12559001,\n",
      "         0.18039931, -0.2000012 ],\n",
      "       [-0.04403114,  0.04045628, -0.06388448,  0.03371379, -0.17426255,\n",
      "        -0.03045082,  0.03528757],\n",
      "       [ 0.11837281, -0.13396034,  0.18324278,  0.20777316, -0.10360883,\n",
      "        -0.00108342, -0.17128547],\n",
      "       [-0.08996393, -0.18871388, -0.1723422 ,  0.03287043, -0.19786708,\n",
      "         0.01089446,  0.15114234],\n",
      "       [ 0.14830504, -0.20498201,  0.14276485,  0.03533754, -0.00744888,\n",
      "         0.01526569, -0.14264363],\n",
      "       [-0.05681509,  0.19526617,  0.16101669,  0.05563684,  0.10151307,\n",
      "         0.03136499,  0.09365524],\n",
      "       [ 0.05050151, -0.03303629, -0.06282112,  0.1772617 ,  0.06201802,\n",
      "         0.10234191, -0.08715004],\n",
      "       [ 0.02579555,  0.11977403, -0.17250592,  0.05545677, -0.08780568,\n",
      "        -0.16024187,  0.08079658],\n",
      "       [ 0.15988989,  0.01663908,  0.06721522,  0.181659  , -0.17601934,\n",
      "        -0.1103087 ,  0.16980211],\n",
      "       [-0.17826293, -0.15281521, -0.02347219, -0.17773823,  0.10869278,\n",
      "        -0.17738056, -0.05016263],\n",
      "       [-0.19503672,  0.04268478,  0.12793078, -0.19026032,  0.12230529,\n",
      "        -0.08122569,  0.14026342],\n",
      "       [ 0.05774038, -0.0387979 ,  0.17088668,  0.13612576, -0.00341205,\n",
      "        -0.03211945, -0.11375146],\n",
      "       [-0.04526871, -0.10852627, -0.09599041,  0.19950391,  0.08875717,\n",
      "        -0.09045178,  0.05823411],\n",
      "       [-0.11169153, -0.09344756,  0.14712377, -0.05273473, -0.1937738 ,\n",
      "         0.17760094,  0.01375574],\n",
      "       [-0.10861795,  0.06291507,  0.16094612,  0.16488571, -0.02045695,\n",
      "         0.07454593, -0.02261515],\n",
      "       [ 0.14865811,  0.03519881, -0.18112561, -0.16295749,  0.20557155,\n",
      "        -0.15659955,  0.06381418],\n",
      "       [-0.06348112,  0.07000734,  0.2040212 , -0.16991717,  0.11709346,\n",
      "         0.08778869,  0.12718   ],\n",
      "       [ 0.10287385, -0.14561   , -0.03083719,  0.15789206,  0.13689096,\n",
      "        -0.13758595, -0.06427212],\n",
      "       [ 0.1336654 ,  0.08146183, -0.06180567,  0.16025771,  0.01569097,\n",
      "        -0.12166543,  0.17842035],\n",
      "       [-0.0476162 , -0.1700868 , -0.04277708,  0.20461757, -0.06202717,\n",
      "         0.18070151,  0.19131248],\n",
      "       [-0.03438374, -0.08814712, -0.07967106, -0.0948232 ,  0.15344827,\n",
      "        -0.07786676, -0.10976817],\n",
      "       [-0.09899992, -0.04392599, -0.00683969, -0.05832238, -0.00481057,\n",
      "         0.21011613,  0.1970766 ],\n",
      "       [ 0.06590854,  0.07255553, -0.18524387, -0.17646497,  0.19255836,\n",
      "         0.08191787,  0.1577429 ],\n",
      "       [-0.07101385,  0.01250324, -0.16228527, -0.0663508 ,  0.02295052,\n",
      "        -0.11323195, -0.18486062],\n",
      "       [ 0.08845784, -0.10018773,  0.07691719, -0.10665166,  0.04039209,\n",
      "         0.11414622,  0.14388709],\n",
      "       [ 0.13446055,  0.05512019,  0.14337094, -0.12471444, -0.14738545,\n",
      "        -0.03706829,  0.03574507],\n",
      "       [-0.0236942 ,  0.01743142, -0.13575095,  0.09420185,  0.12393387,\n",
      "        -0.05582793, -0.05035247],\n",
      "       [ 0.11195828, -0.05330764,  0.01013942, -0.15051316,  0.12875845,\n",
      "        -0.1749402 , -0.19944046],\n",
      "       [ 0.11077879, -0.00062639, -0.20567535, -0.14380544, -0.11855344,\n",
      "        -0.00318818, -0.06616753],\n",
      "       [-0.12516454,  0.1300738 , -0.1178385 ,  0.20802073, -0.19966654,\n",
      "         0.02418216, -0.08582481],\n",
      "       [-0.17387724,  0.18162419, -0.15697764, -0.20583081, -0.19262621,\n",
      "        -0.02708942,  0.00791307],\n",
      "       [ 0.01598752, -0.19883335,  0.02570909,  0.05345882, -0.03889863,\n",
      "         0.10988025,  0.21023597],\n",
      "       [-0.07983139, -0.2090388 ,  0.00176252,  0.17150758,  0.03055783,\n",
      "        -0.00604615, -0.12292412],\n",
      "       [ 0.01252003, -0.0007271 ,  0.00482154, -0.02989717,  0.11999528,\n",
      "        -0.04105607, -0.03503983],\n",
      "       [ 0.18784307,  0.05218701, -0.14499101, -0.10710433,  0.09310712,\n",
      "        -0.08432667,  0.02772063],\n",
      "       [-0.19318272, -0.16181229,  0.11922397,  0.09348123, -0.06649998,\n",
      "        -0.13236423,  0.18829148],\n",
      "       [ 0.02420262, -0.02799973, -0.18783559,  0.1092584 ,  0.01334465,\n",
      "        -0.04020934, -0.09268929],\n",
      "       [-0.05668195, -0.15882275, -0.04301417, -0.12469504, -0.07456559,\n",
      "        -0.04176438, -0.17895365],\n",
      "       [ 0.07338767, -0.09264576, -0.09526417,  0.20709784,  0.09823702,\n",
      "        -0.04349734, -0.18946612],\n",
      "       [ 0.20507862,  0.03880318, -0.08330211, -0.01849213,  0.20262821,\n",
      "        -0.07062587, -0.20259342],\n",
      "       [-0.13081035,  0.02283108,  0.08542536, -0.13514799,  0.17095827,\n",
      "         0.09268577,  0.00496267],\n",
      "       [ 0.04154311,  0.16176249,  0.08490996, -0.15918726, -0.18102051,\n",
      "         0.18707792, -0.16491663],\n",
      "       [-0.01670589, -0.13150725, -0.00603513, -0.14813909,  0.03740601,\n",
      "         0.14787184, -0.20677043],\n",
      "       [ 0.03457439,  0.11536123,  0.13249229, -0.13495222,  0.17810853,\n",
      "        -0.04554224, -0.08126646],\n",
      "       [ 0.1758657 , -0.16665639, -0.13507144, -0.1932373 , -0.08620219,\n",
      "        -0.09636523, -0.19195524],\n",
      "       [ 0.1290036 , -0.02748324, -0.16578358, -0.18090601,  0.19756927,\n",
      "        -0.16013792,  0.08325572],\n",
      "       [ 0.10495026,  0.0863166 ,  0.07096584, -0.04589765,  0.09753077,\n",
      "         0.10187505,  0.03560945],\n",
      "       [-0.18361163, -0.14176679,  0.1686453 , -0.13381557, -0.186712  ,\n",
      "        -0.15083887,  0.10685532],\n",
      "       [-0.12834498, -0.1892917 , -0.10395208,  0.16934822, -0.09202069,\n",
      "        -0.05155964, -0.167019  ],\n",
      "       [ 0.01696202,  0.12784784,  0.06895478,  0.01547389,  0.03250064,\n",
      "         0.00519228,  0.17230229],\n",
      "       [-0.17890851,  0.1602747 , -0.14487657,  0.10510094,  0.11905076,\n",
      "         0.06439738, -0.18575937],\n",
      "       [ 0.03155439,  0.11989363, -0.08606341, -0.04104285,  0.09556715,\n",
      "        -0.17804098, -0.20749186],\n",
      "       [ 0.09571452, -0.16815278, -0.0303255 ,  0.19709052,  0.19333552,\n",
      "         0.19134052, -0.20183274],\n",
      "       [-0.06020835, -0.15875494,  0.1133302 , -0.16199555, -0.15120332,\n",
      "        -0.00642759, -0.12145277],\n",
      "       [ 0.03366433,  0.17704208,  0.06828578,  0.00201665, -0.16855744,\n",
      "         0.19425704,  0.03567441],\n",
      "       [ 0.12447007,  0.01062064, -0.16753887, -0.05314046,  0.14413051,\n",
      "         0.16616903, -0.00756313],\n",
      "       [ 0.10588987, -0.15614519, -0.03425071,  0.15293287,  0.03308636,\n",
      "         0.20670198,  0.05949531],\n",
      "       [ 0.16860367, -0.17020018,  0.20428975,  0.08905245,  0.0245159 ,\n",
      "         0.11723806,  0.04735731],\n",
      "       [-0.12522382, -0.07831471, -0.12273926, -0.04058611, -0.14327186,\n",
      "        -0.01126933, -0.01793677],\n",
      "       [ 0.02983952, -0.08713024, -0.14036721,  0.16492163, -0.04750752,\n",
      "        -0.20278381,  0.07398637],\n",
      "       [-0.0679649 , -0.02110033, -0.06370404,  0.01348408, -0.06581403,\n",
      "        -0.14341305,  0.04831134],\n",
      "       [-0.11404385, -0.10366915, -0.14831796, -0.03664081,  0.09496091,\n",
      "        -0.02715763, -0.11841216],\n",
      "       [-0.10045417, -0.05907622,  0.08859797, -0.04117072, -0.04974906,\n",
      "         0.13581945,  0.19173695],\n",
      "       [-0.11177015, -0.07536919, -0.02471942, -0.02703308,  0.09181528,\n",
      "        -0.09037075,  0.06606536],\n",
      "       [-0.12207352, -0.00153166,  0.09204035,  0.01026326,  0.2013946 ,\n",
      "        -0.08323129,  0.19928636],\n",
      "       [ 0.08862467,  0.03368032, -0.0071097 , -0.06457636,  0.11451872,\n",
      "        -0.0558517 ,  0.04173578],\n",
      "       [-0.01601808,  0.19928856, -0.19621529,  0.02203944,  0.08647351,\n",
      "         0.19131143, -0.03214186],\n",
      "       [-0.1778244 , -0.08623441, -0.14187676,  0.00885259,  0.08937906,\n",
      "         0.11785246, -0.07669976],\n",
      "       [-0.20014802,  0.00599934,  0.19248845, -0.06764562,  0.06285723,\n",
      "         0.1117238 ,  0.19434093],\n",
      "       [ 0.13349767,  0.18435805, -0.19706354, -0.02744122, -0.1486295 ,\n",
      "        -0.03260906, -0.0717777 ],\n",
      "       [-0.00713469, -0.13527174, -0.11375242, -0.06339528,  0.15137969,\n",
      "         0.16550724, -0.00973319],\n",
      "       [ 0.09771787, -0.09566777, -0.15003416,  0.09924169, -0.06202008,\n",
      "         0.18121369, -0.05976532],\n",
      "       [ 0.11857502, -0.13521062,  0.05631341,  0.06716894,  0.20196252,\n",
      "         0.04565789,  0.19129659],\n",
      "       [-0.00221892,  0.1645274 ,  0.20277159,  0.18637113, -0.13829486,\n",
      "        -0.17709619,  0.01353142],\n",
      "       [-0.19710258, -0.02092487,  0.00151016, -0.03703436, -0.00481063,\n",
      "        -0.01111899,  0.16830619],\n",
      "       [ 0.06731872,  0.20941548,  0.08849369, -0.16960603, -0.10780067,\n",
      "         0.08554335, -0.00880468],\n",
      "       [ 0.20704068,  0.11464153, -0.06497736, -0.16974656,  0.19742201,\n",
      "        -0.04860678,  0.1753863 ],\n",
      "       [-0.11849549,  0.08747898, -0.21071748, -0.19677432,  0.03247929,\n",
      "        -0.05173892,  0.04528214],\n",
      "       [ 0.07661904, -0.13256371, -0.16004252, -0.01058561, -0.02196813,\n",
      "        -0.19060437,  0.0521657 ],\n",
      "       [ 0.13487525, -0.15680096,  0.05031456, -0.0034101 , -0.10744029,\n",
      "         0.19517298,  0.1176848 ],\n",
      "       [ 0.21036671,  0.15275575, -0.18266568,  0.03283489,  0.02357051,\n",
      "         0.13776715,  0.1977325 ],\n",
      "       [ 0.04384713, -0.06429358, -0.07645553, -0.10027111,  0.15717848,\n",
      "        -0.164345  ,  0.18249185],\n",
      "       [ 0.20327733, -0.00593933, -0.01255058,  0.00395876,  0.05755602,\n",
      "         0.20508431,  0.1382127 ],\n",
      "       [ 0.1217259 , -0.14546001, -0.13165013,  0.16869591,  0.12619002,\n",
      "         0.10884543, -0.13896361],\n",
      "       [ 0.07445718, -0.09774876, -0.13968357,  0.08057283,  0.06014059,\n",
      "         0.05200274,  0.04853515],\n",
      "       [-0.10322804,  0.10503449,  0.12495138,  0.11888362, -0.04684462,\n",
      "         0.04758708, -0.19295739],\n",
      "       [-0.0054556 ,  0.18636937, -0.11164901,  0.16689734, -0.15579545,\n",
      "         0.13651223,  0.05972944],\n",
      "       [ 0.04417412, -0.10409448, -0.01386908, -0.0436313 ,  0.09771188,\n",
      "        -0.13919246, -0.12252448],\n",
      "       [ 0.00325127, -0.04651232,  0.11503227, -0.18454954,  0.16602002,\n",
      "         0.06088178, -0.19930802],\n",
      "       [-0.04679957, -0.02582154, -0.17569278,  0.16633771, -0.03767341,\n",
      "         0.13185818,  0.19633229],\n",
      "       [ 0.09978382, -0.13187255, -0.20466486,  0.03860067, -0.04298863,\n",
      "        -0.14135256,  0.06750073],\n",
      "       [-0.18502367,  0.11718251, -0.14202423,  0.19765182,  0.11826827,\n",
      "        -0.20024669,  0.17825837],\n",
      "       [-0.19681346,  0.10255773, -0.16865054, -0.11574414,  0.01005633,\n",
      "         0.19919096,  0.01987551],\n",
      "       [ 0.10203756, -0.12360734, -0.03283273, -0.1792895 , -0.1974419 ,\n",
      "        -0.1856867 ,  0.05480571],\n",
      "       [-0.08266844, -0.05462809, -0.12439552, -0.02774622,  0.03922032,\n",
      "        -0.15127802,  0.01989482],\n",
      "       [ 0.16684966, -0.0314035 ,  0.16964619,  0.19112732,  0.10470189,\n",
      "        -0.16143236, -0.01358223],\n",
      "       [-0.20179002,  0.1956567 ,  0.10157932, -0.09166613,  0.08601691,\n",
      "         0.17849825, -0.03601041],\n",
      "       [ 0.05664323, -0.15561125, -0.21063666, -0.12225447, -0.12043645,\n",
      "         0.0995319 ,  0.09146   ],\n",
      "       [-0.1387892 , -0.19708766,  0.03156585, -0.00776002, -0.07515754,\n",
      "        -0.2090692 , -0.17780358],\n",
      "       [-0.02533861, -0.19689435, -0.17268127,  0.14898281, -0.14639963,\n",
      "         0.05420689, -0.17992398],\n",
      "       [-0.05524427,  0.1160699 ,  0.17806499, -0.09601027, -0.0845326 ,\n",
      "        -0.10982496,  0.01696081],\n",
      "       [ 0.14156286, -0.01536079, -0.0599232 ,  0.08287336,  0.05603723,\n",
      "        -0.17576924, -0.11120735],\n",
      "       [-0.11656594,  0.15035157, -0.12096894,  0.06207116,  0.11449884,\n",
      "         0.07572924,  0.20321451],\n",
      "       [ 0.00938843,  0.06021492,  0.12287013,  0.14251761, -0.13116449,\n",
      "        -0.15919067,  0.17913772]], dtype=float32), array([0., 0., 0., 0., 0., 0., 0.], dtype=float32)]\n"
     ]
    }
   ],
   "source": [
    "weights = final_layer.get_weights()\n",
    "print(weights)"
   ]
  },
  {
   "cell_type": "code",
   "execution_count": null,
   "metadata": {
    "colab": {
     "base_uri": "https://localhost:8080/"
    },
    "id": "-WldCEYcPhwS",
    "outputId": "75939e67-ed8b-4e85-cb18-3ac29cfb3104"
   },
   "outputs": [
    {
     "name": "stdout",
     "output_type": "stream",
     "text": [
      "[[-0.17029232  0.09911646 -0.18165474 -0.13018528  0.00889701  0.14468063\n",
      "   0.18941359]\n",
      " [ 0.03829421  0.09700753 -0.04292284  0.00982004 -0.16413304  0.18810283\n",
      "  -0.08580104]\n",
      " [-0.09807985 -0.00156309 -0.09207693  0.15233962 -0.14746511 -0.18286744\n",
      "   0.06863947]\n",
      " [-0.15526739 -0.02732792  0.14724515 -0.17661607 -0.17890137  0.06519435\n",
      "   0.06439944]\n",
      " [ 0.11393504  0.08794038 -0.20615019 -0.0488508  -0.16882187 -0.11533646\n",
      "   0.1932293 ]\n",
      " [-0.19170484 -0.05314589  0.09992836  0.10483278 -0.15391733 -0.00492543\n",
      "  -0.00158389]\n",
      " [ 0.00147165  0.09854691 -0.06922032  0.07293867  0.17448507 -0.01971452\n",
      "   0.00963724]\n",
      " [ 0.20523109  0.0114823   0.1943856   0.04769854 -0.20799464 -0.07685201\n",
      "  -0.0235294 ]\n",
      " [ 0.01518954 -0.03657024  0.08324571  0.08885272 -0.14977615 -0.0821811\n",
      "   0.01572911]\n",
      " [ 0.05127938  0.13946997 -0.20368664 -0.08133632  0.12396081  0.00704874\n",
      "  -0.09553905]\n",
      " [ 0.15616922 -0.17560568  0.02627505  0.17346503 -0.14368533  0.16414694\n",
      "  -0.04300024]\n",
      " [-0.14812768  0.00175473  0.19091587  0.01342416 -0.09813127  0.10918723\n",
      "   0.18784599]\n",
      " [ 0.03791286  0.02513635 -0.0307752  -0.19357638 -0.07867359 -0.17305422\n",
      "   0.14354958]\n",
      " [ 0.15703745  0.09031899  0.10701053 -0.11906945  0.14553918  0.0132882\n",
      "   0.00077184]\n",
      " [ 0.1683983  -0.00344387 -0.14190224  0.11082087  0.10145892 -0.03557342\n",
      "   0.12795691]\n",
      " [-0.0285189   0.18810551  0.14184941  0.16963448  0.17966633 -0.00337507\n",
      "   0.08994217]\n",
      " [ 0.06361906 -0.179232   -0.15795761 -0.1716729   0.18402962  0.0345757\n",
      "   0.03777826]\n",
      " [ 0.05665158 -0.17614102  0.06064539  0.14193673 -0.02069546 -0.02553473\n",
      "  -0.1925697 ]\n",
      " [ 0.05695511  0.15549101 -0.12657034  0.16426657 -0.00662658 -0.04394488\n",
      "   0.04153712]\n",
      " [ 0.00269742 -0.18915161  0.14793567 -0.19068304  0.06515829  0.1390553\n",
      "   0.07747059]\n",
      " [ 0.07422145 -0.16845903  0.18816979 -0.0226711   0.19344594 -0.03445698\n",
      "  -0.00046906]\n",
      " [-0.16058034 -0.12718904  0.04656018  0.10934331 -0.07225037  0.05020486\n",
      "   0.00178534]\n",
      " [ 0.2095732   0.18309955 -0.15559812  0.08034177 -0.01790205 -0.10906152\n",
      "  -0.00508828]\n",
      " [-0.10924307  0.04481147 -0.05885789 -0.03443572  0.13757561 -0.13324377\n",
      "  -0.12479265]\n",
      " [-0.07695736 -0.01555952 -0.12310748  0.06092431  0.12559001  0.18039931\n",
      "  -0.2000012 ]\n",
      " [-0.04403114  0.04045628 -0.06388448  0.03371379 -0.17426255 -0.03045082\n",
      "   0.03528757]\n",
      " [ 0.11837281 -0.13396034  0.18324278  0.20777316 -0.10360883 -0.00108342\n",
      "  -0.17128547]\n",
      " [-0.08996393 -0.18871388 -0.1723422   0.03287043 -0.19786708  0.01089446\n",
      "   0.15114234]\n",
      " [ 0.14830504 -0.20498201  0.14276485  0.03533754 -0.00744888  0.01526569\n",
      "  -0.14264363]\n",
      " [-0.05681509  0.19526617  0.16101669  0.05563684  0.10151307  0.03136499\n",
      "   0.09365524]\n",
      " [ 0.05050151 -0.03303629 -0.06282112  0.1772617   0.06201802  0.10234191\n",
      "  -0.08715004]\n",
      " [ 0.02579555  0.11977403 -0.17250592  0.05545677 -0.08780568 -0.16024187\n",
      "   0.08079658]\n",
      " [ 0.15988989  0.01663908  0.06721522  0.181659   -0.17601934 -0.1103087\n",
      "   0.16980211]\n",
      " [-0.17826293 -0.15281521 -0.02347219 -0.17773823  0.10869278 -0.17738056\n",
      "  -0.05016263]\n",
      " [-0.19503672  0.04268478  0.12793078 -0.19026032  0.12230529 -0.08122569\n",
      "   0.14026342]\n",
      " [ 0.05774038 -0.0387979   0.17088668  0.13612576 -0.00341205 -0.03211945\n",
      "  -0.11375146]\n",
      " [-0.04526871 -0.10852627 -0.09599041  0.19950391  0.08875717 -0.09045178\n",
      "   0.05823411]\n",
      " [-0.11169153 -0.09344756  0.14712377 -0.05273473 -0.1937738   0.17760094\n",
      "   0.01375574]\n",
      " [-0.10861795  0.06291507  0.16094612  0.16488571 -0.02045695  0.07454593\n",
      "  -0.02261515]\n",
      " [ 0.14865811  0.03519881 -0.18112561 -0.16295749  0.20557155 -0.15659955\n",
      "   0.06381418]\n",
      " [-0.06348112  0.07000734  0.2040212  -0.16991717  0.11709346  0.08778869\n",
      "   0.12718   ]\n",
      " [ 0.10287385 -0.14561    -0.03083719  0.15789206  0.13689096 -0.13758595\n",
      "  -0.06427212]\n",
      " [ 0.1336654   0.08146183 -0.06180567  0.16025771  0.01569097 -0.12166543\n",
      "   0.17842035]\n",
      " [-0.0476162  -0.1700868  -0.04277708  0.20461757 -0.06202717  0.18070151\n",
      "   0.19131248]\n",
      " [-0.03438374 -0.08814712 -0.07967106 -0.0948232   0.15344827 -0.07786676\n",
      "  -0.10976817]\n",
      " [-0.09899992 -0.04392599 -0.00683969 -0.05832238 -0.00481057  0.21011613\n",
      "   0.1970766 ]\n",
      " [ 0.06590854  0.07255553 -0.18524387 -0.17646497  0.19255836  0.08191787\n",
      "   0.1577429 ]\n",
      " [-0.07101385  0.01250324 -0.16228527 -0.0663508   0.02295052 -0.11323195\n",
      "  -0.18486062]\n",
      " [ 0.08845784 -0.10018773  0.07691719 -0.10665166  0.04039209  0.11414622\n",
      "   0.14388709]\n",
      " [ 0.13446055  0.05512019  0.14337094 -0.12471444 -0.14738545 -0.03706829\n",
      "   0.03574507]\n",
      " [-0.0236942   0.01743142 -0.13575095  0.09420185  0.12393387 -0.05582793\n",
      "  -0.05035247]\n",
      " [ 0.11195828 -0.05330764  0.01013942 -0.15051316  0.12875845 -0.1749402\n",
      "  -0.19944046]\n",
      " [ 0.11077879 -0.00062639 -0.20567535 -0.14380544 -0.11855344 -0.00318818\n",
      "  -0.06616753]\n",
      " [-0.12516454  0.1300738  -0.1178385   0.20802073 -0.19966654  0.02418216\n",
      "  -0.08582481]\n",
      " [-0.17387724  0.18162419 -0.15697764 -0.20583081 -0.19262621 -0.02708942\n",
      "   0.00791307]\n",
      " [ 0.01598752 -0.19883335  0.02570909  0.05345882 -0.03889863  0.10988025\n",
      "   0.21023597]\n",
      " [-0.07983139 -0.2090388   0.00176252  0.17150758  0.03055783 -0.00604615\n",
      "  -0.12292412]\n",
      " [ 0.01252003 -0.0007271   0.00482154 -0.02989717  0.11999528 -0.04105607\n",
      "  -0.03503983]\n",
      " [ 0.18784307  0.05218701 -0.14499101 -0.10710433  0.09310712 -0.08432667\n",
      "   0.02772063]\n",
      " [-0.19318272 -0.16181229  0.11922397  0.09348123 -0.06649998 -0.13236423\n",
      "   0.18829148]\n",
      " [ 0.02420262 -0.02799973 -0.18783559  0.1092584   0.01334465 -0.04020934\n",
      "  -0.09268929]\n",
      " [-0.05668195 -0.15882275 -0.04301417 -0.12469504 -0.07456559 -0.04176438\n",
      "  -0.17895365]\n",
      " [ 0.07338767 -0.09264576 -0.09526417  0.20709784  0.09823702 -0.04349734\n",
      "  -0.18946612]\n",
      " [ 0.20507862  0.03880318 -0.08330211 -0.01849213  0.20262821 -0.07062587\n",
      "  -0.20259342]\n",
      " [-0.13081035  0.02283108  0.08542536 -0.13514799  0.17095827  0.09268577\n",
      "   0.00496267]\n",
      " [ 0.04154311  0.16176249  0.08490996 -0.15918726 -0.18102051  0.18707792\n",
      "  -0.16491663]\n",
      " [-0.01670589 -0.13150725 -0.00603513 -0.14813909  0.03740601  0.14787184\n",
      "  -0.20677043]\n",
      " [ 0.03457439  0.11536123  0.13249229 -0.13495222  0.17810853 -0.04554224\n",
      "  -0.08126646]\n",
      " [ 0.1758657  -0.16665639 -0.13507144 -0.1932373  -0.08620219 -0.09636523\n",
      "  -0.19195524]\n",
      " [ 0.1290036  -0.02748324 -0.16578358 -0.18090601  0.19756927 -0.16013792\n",
      "   0.08325572]\n",
      " [ 0.10495026  0.0863166   0.07096584 -0.04589765  0.09753077  0.10187505\n",
      "   0.03560945]\n",
      " [-0.18361163 -0.14176679  0.1686453  -0.13381557 -0.186712   -0.15083887\n",
      "   0.10685532]\n",
      " [-0.12834498 -0.1892917  -0.10395208  0.16934822 -0.09202069 -0.05155964\n",
      "  -0.167019  ]\n",
      " [ 0.01696202  0.12784784  0.06895478  0.01547389  0.03250064  0.00519228\n",
      "   0.17230229]\n",
      " [-0.17890851  0.1602747  -0.14487657  0.10510094  0.11905076  0.06439738\n",
      "  -0.18575937]\n",
      " [ 0.03155439  0.11989363 -0.08606341 -0.04104285  0.09556715 -0.17804098\n",
      "  -0.20749186]\n",
      " [ 0.09571452 -0.16815278 -0.0303255   0.19709052  0.19333552  0.19134052\n",
      "  -0.20183274]\n",
      " [-0.06020835 -0.15875494  0.1133302  -0.16199555 -0.15120332 -0.00642759\n",
      "  -0.12145277]\n",
      " [ 0.03366433  0.17704208  0.06828578  0.00201665 -0.16855744  0.19425704\n",
      "   0.03567441]\n",
      " [ 0.12447007  0.01062064 -0.16753887 -0.05314046  0.14413051  0.16616903\n",
      "  -0.00756313]\n",
      " [ 0.10588987 -0.15614519 -0.03425071  0.15293287  0.03308636  0.20670198\n",
      "   0.05949531]\n",
      " [ 0.16860367 -0.17020018  0.20428975  0.08905245  0.0245159   0.11723806\n",
      "   0.04735731]\n",
      " [-0.12522382 -0.07831471 -0.12273926 -0.04058611 -0.14327186 -0.01126933\n",
      "  -0.01793677]\n",
      " [ 0.02983952 -0.08713024 -0.14036721  0.16492163 -0.04750752 -0.20278381\n",
      "   0.07398637]\n",
      " [-0.0679649  -0.02110033 -0.06370404  0.01348408 -0.06581403 -0.14341305\n",
      "   0.04831134]\n",
      " [-0.11404385 -0.10366915 -0.14831796 -0.03664081  0.09496091 -0.02715763\n",
      "  -0.11841216]\n",
      " [-0.10045417 -0.05907622  0.08859797 -0.04117072 -0.04974906  0.13581945\n",
      "   0.19173695]\n",
      " [-0.11177015 -0.07536919 -0.02471942 -0.02703308  0.09181528 -0.09037075\n",
      "   0.06606536]\n",
      " [-0.12207352 -0.00153166  0.09204035  0.01026326  0.2013946  -0.08323129\n",
      "   0.19928636]\n",
      " [ 0.08862467  0.03368032 -0.0071097  -0.06457636  0.11451872 -0.0558517\n",
      "   0.04173578]\n",
      " [-0.01601808  0.19928856 -0.19621529  0.02203944  0.08647351  0.19131143\n",
      "  -0.03214186]\n",
      " [-0.1778244  -0.08623441 -0.14187676  0.00885259  0.08937906  0.11785246\n",
      "  -0.07669976]\n",
      " [-0.20014802  0.00599934  0.19248845 -0.06764562  0.06285723  0.1117238\n",
      "   0.19434093]\n",
      " [ 0.13349767  0.18435805 -0.19706354 -0.02744122 -0.1486295  -0.03260906\n",
      "  -0.0717777 ]\n",
      " [-0.00713469 -0.13527174 -0.11375242 -0.06339528  0.15137969  0.16550724\n",
      "  -0.00973319]\n",
      " [ 0.09771787 -0.09566777 -0.15003416  0.09924169 -0.06202008  0.18121369\n",
      "  -0.05976532]\n",
      " [ 0.11857502 -0.13521062  0.05631341  0.06716894  0.20196252  0.04565789\n",
      "   0.19129659]\n",
      " [-0.00221892  0.1645274   0.20277159  0.18637113 -0.13829486 -0.17709619\n",
      "   0.01353142]\n",
      " [-0.19710258 -0.02092487  0.00151016 -0.03703436 -0.00481063 -0.01111899\n",
      "   0.16830619]\n",
      " [ 0.06731872  0.20941548  0.08849369 -0.16960603 -0.10780067  0.08554335\n",
      "  -0.00880468]\n",
      " [ 0.20704068  0.11464153 -0.06497736 -0.16974656  0.19742201 -0.04860678\n",
      "   0.1753863 ]\n",
      " [-0.11849549  0.08747898 -0.21071748 -0.19677432  0.03247929 -0.05173892\n",
      "   0.04528214]\n",
      " [ 0.07661904 -0.13256371 -0.16004252 -0.01058561 -0.02196813 -0.19060437\n",
      "   0.0521657 ]\n",
      " [ 0.13487525 -0.15680096  0.05031456 -0.0034101  -0.10744029  0.19517298\n",
      "   0.1176848 ]\n",
      " [ 0.21036671  0.15275575 -0.18266568  0.03283489  0.02357051  0.13776715\n",
      "   0.1977325 ]\n",
      " [ 0.04384713 -0.06429358 -0.07645553 -0.10027111  0.15717848 -0.164345\n",
      "   0.18249185]\n",
      " [ 0.20327733 -0.00593933 -0.01255058  0.00395876  0.05755602  0.20508431\n",
      "   0.1382127 ]\n",
      " [ 0.1217259  -0.14546001 -0.13165013  0.16869591  0.12619002  0.10884543\n",
      "  -0.13896361]\n",
      " [ 0.07445718 -0.09774876 -0.13968357  0.08057283  0.06014059  0.05200274\n",
      "   0.04853515]\n",
      " [-0.10322804  0.10503449  0.12495138  0.11888362 -0.04684462  0.04758708\n",
      "  -0.19295739]\n",
      " [-0.0054556   0.18636937 -0.11164901  0.16689734 -0.15579545  0.13651223\n",
      "   0.05972944]\n",
      " [ 0.04417412 -0.10409448 -0.01386908 -0.0436313   0.09771188 -0.13919246\n",
      "  -0.12252448]\n",
      " [ 0.00325127 -0.04651232  0.11503227 -0.18454954  0.16602002  0.06088178\n",
      "  -0.19930802]\n",
      " [-0.04679957 -0.02582154 -0.17569278  0.16633771 -0.03767341  0.13185818\n",
      "   0.19633229]\n",
      " [ 0.09978382 -0.13187255 -0.20466486  0.03860067 -0.04298863 -0.14135256\n",
      "   0.06750073]\n",
      " [-0.18502367  0.11718251 -0.14202423  0.19765182  0.11826827 -0.20024669\n",
      "   0.17825837]\n",
      " [-0.19681346  0.10255773 -0.16865054 -0.11574414  0.01005633  0.19919096\n",
      "   0.01987551]\n",
      " [ 0.10203756 -0.12360734 -0.03283273 -0.1792895  -0.1974419  -0.1856867\n",
      "   0.05480571]\n",
      " [-0.08266844 -0.05462809 -0.12439552 -0.02774622  0.03922032 -0.15127802\n",
      "   0.01989482]\n",
      " [ 0.16684966 -0.0314035   0.16964619  0.19112732  0.10470189 -0.16143236\n",
      "  -0.01358223]\n",
      " [-0.20179002  0.1956567   0.10157932 -0.09166613  0.08601691  0.17849825\n",
      "  -0.03601041]\n",
      " [ 0.05664323 -0.15561125 -0.21063666 -0.12225447 -0.12043645  0.0995319\n",
      "   0.09146   ]\n",
      " [-0.1387892  -0.19708766  0.03156585 -0.00776002 -0.07515754 -0.2090692\n",
      "  -0.17780358]\n",
      " [-0.02533861 -0.19689435 -0.17268127  0.14898281 -0.14639963  0.05420689\n",
      "  -0.17992398]\n",
      " [-0.05524427  0.1160699   0.17806499 -0.09601027 -0.0845326  -0.10982496\n",
      "   0.01696081]\n",
      " [ 0.14156286 -0.01536079 -0.0599232   0.08287336  0.05603723 -0.17576924\n",
      "  -0.11120735]\n",
      " [-0.11656594  0.15035157 -0.12096894  0.06207116  0.11449884  0.07572924\n",
      "   0.20321451]\n",
      " [ 0.00938843  0.06021492  0.12287013  0.14251761 -0.13116449 -0.15919067\n",
      "   0.17913772]]\n"
     ]
    }
   ],
   "source": [
    "weights = model.layers[-1].get_weights()[0]\n",
    "print(weights)"
   ]
  }
 ],
 "metadata": {
  "colab": {
   "provenance": []
  },
  "gpuClass": "standard",
  "kernelspec": {
   "display_name": "Python 3 (ipykernel)",
   "language": "python",
   "name": "python3"
  },
  "language_info": {
   "codemirror_mode": {
    "name": "ipython",
    "version": 3
   },
   "file_extension": ".py",
   "mimetype": "text/x-python",
   "name": "python",
   "nbconvert_exporter": "python",
   "pygments_lexer": "ipython3",
   "version": "3.9.13"
  }
 },
 "nbformat": 4,
 "nbformat_minor": 1
}
